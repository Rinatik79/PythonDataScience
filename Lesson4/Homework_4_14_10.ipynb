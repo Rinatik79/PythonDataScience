{
  "nbformat": 4,
  "nbformat_minor": 0,
  "metadata": {
    "colab": {
      "name": "Lesson_4_7_09.ipynb",
      "provenance": [],
      "collapsed_sections": []
    },
    "kernelspec": {
      "display_name": "Python 3",
      "language": "python",
      "name": "python3"
    },
    "language_info": {
      "codemirror_mode": {
        "name": "ipython",
        "version": 3
      },
      "file_extension": ".py",
      "mimetype": "text/x-python",
      "name": "python",
      "nbconvert_exporter": "python",
      "pygments_lexer": "ipython3",
      "version": "3.6.8"
    }
  },
  "cells": [
    {
      "cell_type": "markdown",
      "metadata": {
        "id": "FM6XV3IlabW_"
      },
      "source": [
        "# Урок 4. Алгоритм построения дерева решений"
      ]
    },
    {
      "cell_type": "markdown",
      "metadata": {
        "id": "uYL_20_gabXB"
      },
      "source": [
        "## Деревья решений"
      ]
    },
    {
      "cell_type": "markdown",
      "metadata": {
        "id": "Y6OcIFWiabXC"
      },
      "source": [
        "В этом уроке пойдет речь еще об одном популярном методе машинного обучения - _деревьях решений_. Это семейство алгоритмов значительно отличается от линейных моделей, но применяется также в задачах классификации и регрессии.\n",
        "\n",
        "Метод основан на известной структуре данных - деревьях, которые по сути представляют собой последовательные инструкции с условиями. Например, в обсуждаемой ранее задаче кредитного скоринга может быть следующий алгоритм принятия решения:\n",
        "\n",
        "1. Старше ли клиент 18 лет? Если да, то продолжаем, иначе отказываем в кредите.\n",
        "\n",
        "2. Превышает ли его заработок 50 тысяч рублей? Если да, то продолжаем, иначе отказываем в кредите.\n",
        "\n",
        "3. Были ли у клиента просроченные кредиты ранее? Если да, отказываем в кредите, иначе выдаем.\n",
        "\n",
        "В листьях (терминальных узлах) деревьев стоят значения целевой функции (прогноз), а в узлах - условия перехода, определяющие, по какому из ребер идти. Если речь идет о бинарных деревьях (каждый узел производит ветвление на две части), обычно, если условие в узле истинно, то происходит переход по левому ребру, если ложно, то по правому. Изобразим описанный выше алгоритм в виде дерева решений."
      ]
    },
    {
      "cell_type": "markdown",
      "metadata": {
        "id": "MvRsNp6jxIb0"
      },
      "source": [
        "<img src=\"images/L4_graphviz.png\" width=\"800\">"
      ]
    },
    {
      "cell_type": "code",
      "metadata": {
        "colab": {
          "base_uri": "https://localhost:8080/"
        },
        "id": "R-asfUSaabXD",
        "outputId": "ed7121c3-f487-488c-8925-236dc11ad392"
      },
      "source": [
        "# визуализировать дерево можно с помощью библиотеки python-graphviz\n",
        "# https://nbviewer.jupyter.org/github/xflr6/graphviz/blob/master/examples/graphviz-notebook.ipynb\n",
        "!pip install graphviz\n",
        "import graphviz\n",
        "from graphviz import Digraph\n",
        "\n"
      ],
      "execution_count": 1,
      "outputs": [
        {
          "output_type": "stream",
          "name": "stdout",
          "text": [
            "Requirement already satisfied: graphviz in /usr/local/lib/python3.7/dist-packages (0.10.1)\n"
          ]
        }
      ]
    },
    {
      "cell_type": "code",
      "metadata": {
        "id": "rfydLJYE4Qve"
      },
      "source": [
        "\n",
        "import logging\n",
        "logging.basicConfig(format='[%(levelname)s@%(name)s] %(message)s', level=logging.DEBUG)"
      ],
      "execution_count": 2,
      "outputs": []
    },
    {
      "cell_type": "code",
      "metadata": {
        "colab": {
          "base_uri": "https://localhost:8080/"
        },
        "id": "aifJQkhTabXG",
        "outputId": "b4d82cac-2cd6-4e43-d095-3d3a084625fb"
      },
      "source": [
        "dot = Digraph(node_attr={'shape': 'box'})\n",
        "\n",
        "dot.node('A', label='Клиент старше 18 лет?')\n",
        "dot.node('B', label='Превышает ли его заработок 50 тысяч рублей?')\n",
        "dot.node('C', label='Отказать')\n",
        "dot.node('D', label='Были ли у клиента просроченные кредиты ранее?')\n",
        "dot.node('E', label='Отказать')\n",
        "dot.node('F', label='Отказать')\n",
        "dot.node('G', label='Выдать')\n",
        "\n",
        "dot.edge('A', 'B', label='да')\n",
        "dot.edge('A', 'C', label='нет')\n",
        "dot.edge('B', 'D', label='да')\n",
        "dot.edge('B', 'E', label='нет')\n",
        "dot.edge('D', 'F', label='да')\n",
        "dot.edge('D', 'G', label='нет')\n",
        "\n",
        "print(dot.source)  "
      ],
      "execution_count": 3,
      "outputs": [
        {
          "output_type": "stream",
          "name": "stdout",
          "text": [
            "digraph {\n",
            "\tnode [shape=box]\n",
            "\tA [label=\"Клиент старше 18 лет?\"]\n",
            "\tB [label=\"Превышает ли его заработок 50 тысяч рублей?\"]\n",
            "\tC [label=\"Отказать\"]\n",
            "\tD [label=\"Были ли у клиента просроченные кредиты ранее?\"]\n",
            "\tE [label=\"Отказать\"]\n",
            "\tF [label=\"Отказать\"]\n",
            "\tG [label=\"Выдать\"]\n",
            "\tA -> B [label=\"да\"]\n",
            "\tA -> C [label=\"нет\"]\n",
            "\tB -> D [label=\"да\"]\n",
            "\tB -> E [label=\"нет\"]\n",
            "\tD -> F [label=\"да\"]\n",
            "\tD -> G [label=\"нет\"]\n",
            "}\n"
          ]
        }
      ]
    },
    {
      "cell_type": "code",
      "metadata": {
        "colab": {
          "base_uri": "https://localhost:8080/",
          "height": 426
        },
        "id": "fdww20nz22f1",
        "outputId": "3d510856-d51b-497f-ca84-6c3abfbfea4b"
      },
      "source": [
        "dot"
      ],
      "execution_count": 4,
      "outputs": [
        {
          "output_type": "execute_result",
          "data": {
            "text/plain": [
              "<graphviz.dot.Digraph at 0x7f3256549510>"
            ],
            "image/svg+xml": "<?xml version=\"1.0\" encoding=\"UTF-8\" standalone=\"no\"?>\n<!DOCTYPE svg PUBLIC \"-//W3C//DTD SVG 1.1//EN\"\n \"http://www.w3.org/Graphics/SVG/1.1/DTD/svg11.dtd\">\n<!-- Generated by graphviz version 2.40.1 (20161225.0304)\n -->\n<!-- Title: %3 Pages: 1 -->\n<svg width=\"513pt\" height=\"305pt\"\n viewBox=\"0.00 0.00 513.00 305.00\" xmlns=\"http://www.w3.org/2000/svg\" xmlns:xlink=\"http://www.w3.org/1999/xlink\">\n<g id=\"graph0\" class=\"graph\" transform=\"scale(1 1) rotate(0) translate(4 301)\">\n<title>%3</title>\n<polygon fill=\"#ffffff\" stroke=\"transparent\" points=\"-4,4 -4,-301 509,-301 509,4 -4,4\"/>\n<!-- A -->\n<g id=\"node1\" class=\"node\">\n<title>A</title>\n<polygon fill=\"none\" stroke=\"#000000\" points=\"443.5,-297 289.5,-297 289.5,-261 443.5,-261 443.5,-297\"/>\n<text text-anchor=\"middle\" x=\"366.5\" y=\"-275.3\" font-family=\"Times,serif\" font-size=\"14.00\" fill=\"#000000\">Клиент старше 18 лет?</text>\n</g>\n<!-- B -->\n<g id=\"node2\" class=\"node\">\n<title>B</title>\n<polygon fill=\"none\" stroke=\"#000000\" points=\"416,-210 113,-210 113,-174 416,-174 416,-210\"/>\n<text text-anchor=\"middle\" x=\"264.5\" y=\"-188.3\" font-family=\"Times,serif\" font-size=\"14.00\" fill=\"#000000\">Превышает ли его заработок 50 тысяч рублей?</text>\n</g>\n<!-- A&#45;&gt;B -->\n<g id=\"edge1\" class=\"edge\">\n<title>A&#45;&gt;B</title>\n<path fill=\"none\" stroke=\"#000000\" d=\"M345.3655,-260.9735C330.3216,-248.1419 309.9244,-230.7443 293.3796,-216.6326\"/>\n<polygon fill=\"#000000\" stroke=\"#000000\" points=\"295.4871,-213.8299 285.6074,-210.0034 290.9444,-219.1558 295.4871,-213.8299\"/>\n<text text-anchor=\"middle\" x=\"329.5\" y=\"-231.8\" font-family=\"Times,serif\" font-size=\"14.00\" fill=\"#000000\">да</text>\n</g>\n<!-- C -->\n<g id=\"node3\" class=\"node\">\n<title>C</title>\n<polygon fill=\"none\" stroke=\"#000000\" points=\"505,-210 434,-210 434,-174 505,-174 505,-210\"/>\n<text text-anchor=\"middle\" x=\"469.5\" y=\"-188.3\" font-family=\"Times,serif\" font-size=\"14.00\" fill=\"#000000\">Отказать</text>\n</g>\n<!-- A&#45;&gt;C -->\n<g id=\"edge2\" class=\"edge\">\n<title>A&#45;&gt;C</title>\n<path fill=\"none\" stroke=\"#000000\" d=\"M387.8417,-260.9735C403.0331,-248.1419 423.6303,-230.7443 440.3373,-216.6326\"/>\n<polygon fill=\"#000000\" stroke=\"#000000\" points=\"442.8046,-219.13 448.1857,-210.0034 438.2877,-213.7823 442.8046,-219.13\"/>\n<text text-anchor=\"middle\" x=\"434.5\" y=\"-231.8\" font-family=\"Times,serif\" font-size=\"14.00\" fill=\"#000000\">нет</text>\n</g>\n<!-- D -->\n<g id=\"node4\" class=\"node\">\n<title>D</title>\n<polygon fill=\"none\" stroke=\"#000000\" points=\"317,-123 0,-123 0,-87 317,-87 317,-123\"/>\n<text text-anchor=\"middle\" x=\"158.5\" y=\"-101.3\" font-family=\"Times,serif\" font-size=\"14.00\" fill=\"#000000\">Были ли у клиента просроченные кредиты ранее?</text>\n</g>\n<!-- B&#45;&gt;D -->\n<g id=\"edge3\" class=\"edge\">\n<title>B&#45;&gt;D</title>\n<path fill=\"none\" stroke=\"#000000\" d=\"M242.5367,-173.9735C226.9028,-161.1419 205.7058,-143.7443 188.5121,-129.6326\"/>\n<polygon fill=\"#000000\" stroke=\"#000000\" points=\"190.3855,-126.6422 180.4351,-123.0034 185.9445,-132.0531 190.3855,-126.6422\"/>\n<text text-anchor=\"middle\" x=\"225.5\" y=\"-144.8\" font-family=\"Times,serif\" font-size=\"14.00\" fill=\"#000000\">да</text>\n</g>\n<!-- E -->\n<g id=\"node5\" class=\"node\">\n<title>E</title>\n<polygon fill=\"none\" stroke=\"#000000\" points=\"406,-123 335,-123 335,-87 406,-87 406,-123\"/>\n<text text-anchor=\"middle\" x=\"370.5\" y=\"-101.3\" font-family=\"Times,serif\" font-size=\"14.00\" fill=\"#000000\">Отказать</text>\n</g>\n<!-- B&#45;&gt;E -->\n<g id=\"edge4\" class=\"edge\">\n<title>B&#45;&gt;E</title>\n<path fill=\"none\" stroke=\"#000000\" d=\"M286.4633,-173.9735C302.0972,-161.1419 323.2942,-143.7443 340.4879,-129.6326\"/>\n<polygon fill=\"#000000\" stroke=\"#000000\" points=\"343.0555,-132.0531 348.5649,-123.0034 338.6145,-126.6422 343.0555,-132.0531\"/>\n<text text-anchor=\"middle\" x=\"334.5\" y=\"-144.8\" font-family=\"Times,serif\" font-size=\"14.00\" fill=\"#000000\">нет</text>\n</g>\n<!-- F -->\n<g id=\"node6\" class=\"node\">\n<title>F</title>\n<polygon fill=\"none\" stroke=\"#000000\" points=\"152,-36 81,-36 81,0 152,0 152,-36\"/>\n<text text-anchor=\"middle\" x=\"116.5\" y=\"-14.3\" font-family=\"Times,serif\" font-size=\"14.00\" fill=\"#000000\">Отказать</text>\n</g>\n<!-- D&#45;&gt;F -->\n<g id=\"edge5\" class=\"edge\">\n<title>D&#45;&gt;F</title>\n<path fill=\"none\" stroke=\"#000000\" d=\"M149.7976,-86.9735C143.9972,-74.9585 136.2642,-58.9401 129.7105,-45.3646\"/>\n<polygon fill=\"#000000\" stroke=\"#000000\" points=\"132.6908,-43.4872 125.1913,-36.0034 126.3869,-46.5305 132.6908,-43.4872\"/>\n<text text-anchor=\"middle\" x=\"147.5\" y=\"-57.8\" font-family=\"Times,serif\" font-size=\"14.00\" fill=\"#000000\">да</text>\n</g>\n<!-- G -->\n<g id=\"node7\" class=\"node\">\n<title>G</title>\n<polygon fill=\"none\" stroke=\"#000000\" points=\"232.5,-36 170.5,-36 170.5,0 232.5,0 232.5,-36\"/>\n<text text-anchor=\"middle\" x=\"201.5\" y=\"-14.3\" font-family=\"Times,serif\" font-size=\"14.00\" fill=\"#000000\">Выдать</text>\n</g>\n<!-- D&#45;&gt;G -->\n<g id=\"edge6\" class=\"edge\">\n<title>D&#45;&gt;G</title>\n<path fill=\"none\" stroke=\"#000000\" d=\"M167.4096,-86.9735C173.4058,-74.8418 181.4192,-58.6287 188.1701,-44.9698\"/>\n<polygon fill=\"#000000\" stroke=\"#000000\" points=\"191.3085,-46.519 192.6018,-36.0034 185.0332,-43.4173 191.3085,-46.519\"/>\n<text text-anchor=\"middle\" x=\"193.5\" y=\"-57.8\" font-family=\"Times,serif\" font-size=\"14.00\" fill=\"#000000\">нет</text>\n</g>\n</g>\n</svg>\n"
          },
          "metadata": {},
          "execution_count": 4
        }
      ]
    },
    {
      "cell_type": "code",
      "metadata": {
        "id": "7YJK-lT95q8M"
      },
      "source": [
        "logging.basicConfig(format='[%(levelname)s@%(name)s] %(message)s', level=logging.disable)"
      ],
      "execution_count": 5,
      "outputs": []
    },
    {
      "cell_type": "markdown",
      "metadata": {
        "id": "asbWiXeOabXM"
      },
      "source": [
        "В задачах машинного обучения чаще всего в вершинах прописываются максимально простые условия. Обычно это сравнение значения одного из признаков $x^{j}$ с некоторым заданным порогом $t$:\n",
        "\n",
        "$$[x^{j} \\leq t].$$\n",
        "\n",
        "Если решается задача классификации, конечным прогнозом является класс или распределение вероятностей классов. В случае регрессии прогноз в листе является вещественным числом.\n",
        "\n",
        "Большим плюсом деревьев является тот факт, что они легко интерпретируемы. "
      ]
    },
    {
      "cell_type": "markdown",
      "metadata": {
        "id": "MNt1_4CWabXM"
      },
      "source": [
        "## Построение деревьев решений"
      ]
    },
    {
      "cell_type": "markdown",
      "metadata": {
        "id": "IR2W64axabXN"
      },
      "source": [
        "Деревья обладают и отрицательными качествами - в частности, они очень легко переобучаются. Легко построить дерево, в котором каждый лист будет соответствовать одному объекту обучающей выборки. Оно будет идеально подогнано под обучающую выборку, давать стопроцентный ответ на ней, но при этом не будет восстанавливать оригинальных закономерностей, и качество ответов на новых данных будет неудовлетворительным."
      ]
    },
    {
      "cell_type": "markdown",
      "metadata": {
        "id": "2k5dCHAQabXO"
      },
      "source": [
        "В машинном обучении деревья строятся последовательно от корня к листьям (так называемый \"жадный\" способ). Вначале выбирается корень и критерий, по которому выборка разбивается на две. Затем то же самое делается для каждого из потомков этого корня и так далее до достаточного уровня ветвления. Задача состоит в выборе способа **разбиения каждого из узлов**, то есть в выборе значения порога, с которым будет сравниваться значение одного из признаков в каждом узле.\n",
        "\n",
        "Разбиение выбирается с точки зрения некоторого заранее заданного функционала качества $Q(X, j, t)$. Находятся наилучшие значения $j$ и $t$ для создания _предиката_ $[x^{j}<t]$. **Параметры $j$ и $t$ можно выбирать перебором:** признаков конечное число, а из всех возможных значений порога $t$ можно рассматривать только те, при которых получаются различные разбиения на две подвыборки, таким образом, различных значений параметра $t$ будет столько же, сколько различных значений признака $x^{j}$ в обучающей выборке.\n",
        "\n",
        "В каждой вершине производится проверка, не выполнилось ли некоторое условие останова (критерии останова рассмотрим далее), и если оно выполнилось, разбиение прекращается, и вершина объвляется листом, и он будет содержать прогноз.\n",
        "\n",
        "В задаче классификации это будет класс, к которому относится большая часть объектов из выборки в листе $X_{m}$\n",
        "\n",
        "$$a_{m} = \\text{argmax}_{y \\in Y} \\sum_{i \\in X_{m}}[y_{i}=y]$$\n",
        "\n",
        "или доля объектов определенного класса $k$, если требуется предсказать вероятности классов\n",
        "\n",
        "$$a_{mk} = \\frac{1}{|X_{m}|} \\sum_{i \\in X_{m}}[y_{i}=k].$$\n",
        "\n",
        "В случае регрессии можно в качестве ответа давать средний по выборке в листе\n",
        "\n",
        "$$a_{m} = \\frac{1}{|X_{m}|} \\sum_{i \\in X_{m}}y_{i}.$$\n",
        "\n",
        "После построения дерева может проводиться его _стрижка_ (pruning) - удаление некоторых вершин согласно некоторому подходу с целью понижения сложности модели и повышения обобщающей способности."
      ]
    },
    {
      "cell_type": "markdown",
      "metadata": {
        "id": "Wy9yYVu65Qxj"
      },
      "source": [
        "Лист: \n",
        "\n",
        "    0(y1)  0(y2) 0 0 1\n",
        "1) y=0,     4 объекта\n",
        "\n",
        "2) y=1, 1 Объект\n",
        "\n",
        "y=0\n",
        "\n",
        "1) y=0,     4 объекта\n",
        "\n",
        "2) y=1, 1 Объект\n",
        "\n",
        "4/5 1/5\n",
        "\n",
        "(0,2 + 0,3 + 0,5)/3"
      ]
    },
    {
      "cell_type": "markdown",
      "metadata": {
        "id": "SV4vq5FrabXP"
      },
      "source": [
        "За функционал качества при работе с деревом решений принимается функционал вида\n",
        "\n",
        "$$Q(X_{m}, j, t) = H(X_{m}) - \\frac{|X_{l}|}{|X_{m}|}H(X_{l}) - \\frac{|X_{r}|}{|X_{m}|}H(X_{r}),$$\n",
        "\n",
        "где $X_{m}$ - множество объектов, попавших в вершину на данном шаге, $X_{l}$ и $X_{r}$ - множества, попадающие в левое и правое поддерево, соответственно, после разбиения. $H(X)$ - _критерий информативности_. Он оценивает качество распределения объектов в подмножестве и тем меньше, чем меньше разнообразие ответов в $X$, соответственно, задача обучения состоит в его минимизации и, соответственно, максимизации $Q(X_{m}, j, t)$ на данном шаге. Последний, по сути, характеризует прирост качества на данном шаге.\n",
        "\n",
        "В формуле значения критериев информативности нормируются - домножаются на долю объектов, ушедших в соответствующее подмножество. Например, если у нас множество в узле разбилось на два подмножества размером в 9990 объектов и 10 объектов, но при этом в первом подмножестве все объекты будут принадлежать к одному классу (то есть иметь минимальное значение разброса), а во втором - к разным, то в целом разбиение будет считаться хорошим, так как подавляющее большинство отсортировано правильно."
      ]
    },
    {
      "cell_type": "markdown",
      "metadata": {
        "id": "pjRAYZGJabXP"
      },
      "source": [
        "### Критерий информативности"
      ]
    },
    {
      "cell_type": "markdown",
      "metadata": {
        "id": "OUZfaAV7abXQ"
      },
      "source": [
        "В случае **регрессии** разброс будет характеризоваться дисперсией, поэтому критерий информативности будет записан в виде\n",
        "\n",
        "$$H(X) = \\frac{1}{X}\\sum_{i\\in X}(y_{i} - \\bar{y}(X))^{2},$$\n",
        "\n",
        "где $\\bar{y}(X)$ - среднее значение ответа в выборке $X$:\n",
        "\n",
        "$$\\bar{y}(X) = \\frac{1}{|X|}\\sum_{i\\in X}y_{i}.$$"
      ]
    },
    {
      "cell_type": "markdown",
      "metadata": {
        "id": "L-j5hnV_abXR"
      },
      "source": [
        "В задаче **классификации** есть несколько способов определить критерий информативности.\n",
        "\n",
        "**1)** Обозначим через $p_{k}$ долю объектов класса $k$ в выборке $X$:\n",
        "\n",
        "$$p_{k} = \\frac{1}{|X|}\\sum_{i\\in X}[y_{i} = k].$$\n",
        "\n",
        "$p_{k}$ будет характеризовать вероятность выдачи класса $k$.\n",
        "\n",
        "**2)** _Критерий Джини_ или _индекс Джини_ выглядит следующим образом:\n",
        "\n",
        "$$H(X) = \\sum^{K}_{k=1}p_{k}(1-p_{k}),$$\n",
        "\n",
        "где $K$ - количество классов в наборе данных $X$.\n",
        "\n",
        "Его минимум достигается когда все объекты в подмножестве относятся к одному классу, а максимум - при равном содержании объектов всех класов. Критерий информативности Джини можно интерпретировать как вероятность ошибки случайного классификатора.\n",
        "\n",
        "**3)** Еще один критерий информативности - _энтропийный критерий_. Он также называется _энтропией Шеннона_ и записывается как\n",
        "\n",
        "$$H(X) = - \\sum^{K}_{k=1}p_{k}\\text{log}_{2}p_{k}.$$\n",
        "\n",
        "Минимум энтропии также достигается когда все объекты относятся к одному класссу, а максимум - при равномерном распределении. Прирост информации есть утрата неопределенности (=уменьшение энтропии). Стоит отметить, что в формуле полагается, что $0\\text{log}_{2}0=0.$ \n"
      ]
    },
    {
      "cell_type": "code",
      "metadata": {
        "id": "Ycdo0vgdgzKB"
      },
      "source": [
        "import numpy as np"
      ],
      "execution_count": 40,
      "outputs": []
    },
    {
      "cell_type": "code",
      "metadata": {
        "id": "2yfVBtARkBzC"
      },
      "source": [
        "# Расчет критерия 'энтропии\n",
        "def entr(labels):\n",
        "    #  подсчет количества объектов разных классов\n",
        "    classes = {}\n",
        "    for label in labels:\n",
        "        if label not in classes:\n",
        "            classes[label] = 0\n",
        "        classes[label] += 1\n",
        "    \n",
        "    #  расчет критерия\n",
        "    impurity = 0\n",
        "    for label in classes:\n",
        "        p = classes[label] / len(labels)\n",
        "        if p > 0:\n",
        "          impurity -= p * np.log2(p)\n",
        "        \n",
        "    return impurity, classes"
      ],
      "execution_count": 58,
      "outputs": []
    },
    {
      "cell_type": "code",
      "metadata": {
        "id": "dQTLiBqnfvkk"
      },
      "source": [
        "# Расчет критерия Джини\n",
        "\n",
        "def gini(labels):\n",
        "    #  подсчет количества объектов разных классов\n",
        "    classes = {}\n",
        "    for label in labels:\n",
        "        if label not in classes:\n",
        "            classes[label] = 0\n",
        "        classes[label] += 1\n",
        "    \n",
        "    #  расчет критерия\n",
        "    impurity = 1\n",
        "    for label in classes:\n",
        "        p = classes[label] / len(labels)\n",
        "        impurity -= p ** 2\n",
        "        \n",
        "    return impurity, classes"
      ],
      "execution_count": 41,
      "outputs": []
    },
    {
      "cell_type": "code",
      "metadata": {
        "id": "1FIJFcd-gn5N"
      },
      "source": [
        "X = np.array([[1, 1, 1, 1, 1, 1, 1, 1, 1, 1],\n",
        "              [1, 1, 2, 5, 3, 0, 5, 10, 1, 2],\n",
        "              [500, 700, 750, 600, 1450, 800, 1500, 2000, 450, 1000],\n",
        "              [1, 1, 2, 1, 2, 1, 3, 3, 1, 2]], dtype = np.float64)\n",
        "y = np.array([0, 0, 1, 0, 1, 0, 1, 0, 1, 1], dtype = np.float64)"
      ],
      "execution_count": 42,
      "outputs": []
    },
    {
      "cell_type": "code",
      "metadata": {
        "colab": {
          "base_uri": "https://localhost:8080/"
        },
        "id": "yAalVUWmguFn",
        "outputId": "a2093720-f5e5-47d9-d408-37b8f9a2487d"
      },
      "source": [
        "x = X[2,:]\n",
        "print(x)\n",
        "print(y)\n",
        "print(x >= 1000)\n",
        "print(y[x >= 1000])\n",
        "right_1 = (y[x >= 1000] == 0)\n",
        "right_2 = (y[x >= 1000] == 1)\n",
        "print('Нулей:', right_1.sum(), 'единиц:', right_2.sum())"
      ],
      "execution_count": 43,
      "outputs": [
        {
          "output_type": "stream",
          "name": "stdout",
          "text": [
            "[ 500.  700.  750.  600. 1450.  800. 1500. 2000.  450. 1000.]\n",
            "[0. 0. 1. 0. 1. 0. 1. 0. 1. 1.]\n",
            "[False False False False  True False  True  True False  True]\n",
            "[1. 1. 0. 1.]\n",
            "Нулей: 1 единиц: 3\n"
          ]
        }
      ]
    },
    {
      "cell_type": "markdown",
      "metadata": {
        "id": "ZALFPFZol-be"
      },
      "source": [
        "Как работает коэффициент Джини"
      ]
    },
    {
      "cell_type": "code",
      "metadata": {
        "colab": {
          "base_uri": "https://localhost:8080/"
        },
        "id": "lsbWSLqoggds",
        "outputId": "120e2b69-9c88-4ff5-8569-8eb07fbe1df6"
      },
      "source": [
        "print(y[x >= 1000])\n",
        "i, c = gini(y[x >= 1000])\n",
        "print(i, c)\n",
        "\n",
        "print(y[x < 1000])\n",
        "i, c = gini(y[x < 1000])\n",
        "print(i, c)"
      ],
      "execution_count": 44,
      "outputs": [
        {
          "output_type": "stream",
          "name": "stdout",
          "text": [
            "[1. 1. 0. 1.]\n",
            "0.375 {1.0: 3, 0.0: 1}\n",
            "[0. 0. 1. 0. 0. 1.]\n",
            "0.4444444444444445 {0.0: 4, 1.0: 2}\n"
          ]
        }
      ]
    },
    {
      "cell_type": "markdown",
      "metadata": {
        "id": "KwwwHStPl1r2"
      },
      "source": [
        "Как работает энтропия"
      ]
    },
    {
      "cell_type": "code",
      "metadata": {
        "colab": {
          "base_uri": "https://localhost:8080/"
        },
        "id": "h4yCK6kJlFXC",
        "outputId": "5bf414ed-11e3-4d8f-8082-321ec4193f6b"
      },
      "source": [
        "print(y[x >= 1000])\n",
        "i, c = entr(y[x >= 1000])\n",
        "print(i, c)\n",
        "\n",
        "print(y[x < 1000])\n",
        "i, c = entr(y[x < 1000])\n",
        "print(i, c)"
      ],
      "execution_count": 61,
      "outputs": [
        {
          "output_type": "stream",
          "name": "stdout",
          "text": [
            "[1. 1. 0. 1.]\n",
            "0.8112781244591328 {1.0: 3, 0.0: 1}\n",
            "[0. 0. 1. 0. 0. 1.]\n",
            "0.9182958340544896 {0.0: 4, 1.0: 2}\n"
          ]
        }
      ]
    },
    {
      "cell_type": "code",
      "metadata": {
        "id": "jcJKvLZdhMO7"
      },
      "source": [
        "# Расчет прироста качества (при разбиении вершины дерева)\n",
        "\n",
        "def quality_0(left_labels, right_labels):\n",
        "\n",
        "    # доля выбоки, ушедшая в левое поддерево\n",
        "    p = float(left_labels.shape[0]) / (left_labels.shape[0] + right_labels.shape[0])\n",
        "    gini_left, _ = gini(left_labels)\n",
        "    gini_right, _ = gini(right_labels)\n",
        "    \n",
        "    return p * gini_left + (1 - p) * gini_right, p * gini_left , (1 - p) * gini_right"
      ],
      "execution_count": 49,
      "outputs": []
    },
    {
      "cell_type": "code",
      "metadata": {
        "colab": {
          "base_uri": "https://localhost:8080/",
          "height": 431
        },
        "id": "sW4Wo7xfhIG0",
        "outputId": "d16a0226-f35d-4ca7-ae67-3b0b857e778f"
      },
      "source": [
        "Gini_tr = []\n",
        "for t in x:\n",
        "    g, lg,rg = quality_0(y[x < t], y[x >= t])\n",
        "    Gini_tr.append([t,g])\n",
        "    print('Порог: {}, gini = {} ({},{})'.format(t,g,lg,rg ))\n",
        "\n",
        "Gini_tr = np.array(Gini_tr)\n",
        "\n",
        "\n",
        "plt.plot(Gini_tr[:,0],Gini_tr[:,1], 'o')\n",
        "plt.plot(x,y/10,'+r', )\n",
        "plt.grid(True)\n",
        "plt.show()    "
      ],
      "execution_count": 57,
      "outputs": [
        {
          "output_type": "stream",
          "name": "stdout",
          "text": [
            "Порог: 500.0, gini = 0.4444444444444444 (0.0,0.4444444444444444)\n",
            "Порог: 700.0, gini = 0.47619047619047616 (0.13333333333333333,0.34285714285714286)\n",
            "Порог: 750.0, gini = 0.4166666666666667 (0.15000000000000002,0.26666666666666666)\n",
            "Порог: 600.0, gini = 0.5 (0.1,0.4)\n",
            "Порог: 1450.0, gini = 0.4761904761904763 (0.3428571428571429,0.13333333333333336)\n",
            "Порог: 800.0, gini = 0.48 (0.24,0.24)\n",
            "Порог: 1500.0, gini = 0.5 (0.4,0.09999999999999998)\n",
            "Порог: 2000.0, gini = 0.4444444444444444 (0.4444444444444444,0.0)\n",
            "Порог: 450.0, gini = 0.5 (0.0,0.5)\n",
            "Порог: 1000.0, gini = 0.4166666666666667 (0.26666666666666666,0.15000000000000002)\n"
          ]
        },
        {
          "output_type": "display_data",
          "data": {
            "image/png": "[encoded data removed]",
            "text/plain": [
              "<Figure size 432x288 with 1 Axes>"
            ]
          },
          "metadata": {
            "needs_background": "light"
          }
        }
      ]
    },
    {
      "cell_type": "markdown",
      "metadata": {
        "id": "wQbZUf1OabXS"
      },
      "source": [
        "### Критерии останова"
      ]
    },
    {
      "cell_type": "markdown",
      "metadata": {
        "id": "fNr4Fc7tabXS"
      },
      "source": [
        "_Критерии останова_ - это критерии, которые показывают, нужно ли остановить процесс построения дерева. Правильный выбор критериев останова роста дерева может существенно повлиять на его качество. Существует большое количество возможных ограничений:\n",
        "\n",
        "- Ограничение максимальной глубины дерева. Этот критерий считается достаточно грубым, но хорошо зарекомендовавшим себя в построении композиций деревьев - когда несколько деревьев объединяются в один алгоритм.\n",
        "\n",
        "\n",
        "- Ограничение максимального количества листьев.\n",
        "\n",
        "\n",
        "- Ограничение минимального количества $n$ объектов в листе. При этом оно должно быть достаточным, чтобы построить надежный прогноз.\n",
        "\n",
        "\n",
        "- Останов в случае, когда все объекты в листе относятся к одному классу.\n",
        "\n",
        "\n",
        "- Требование улучшения функционала качества при разбиении на какую-то минимальную величину.\n",
        "\n",
        "Подбор оптимальных критериев - сложная задача, которая обычно решается методом кросс-валидации."
      ]
    },
    {
      "cell_type": "markdown",
      "metadata": {
        "id": "vyLBxK_AabXT"
      },
      "source": [
        "### Обрезка деревьев"
      ]
    },
    {
      "cell_type": "markdown",
      "metadata": {
        "id": "gvdu6ypbabXU"
      },
      "source": [
        "В случае применения метода стрижки (обрезки, прунинга) деревьев использовать критерии останова необязательно, и можно строить переобученные деревья, затем снижая их сложность, удаляя листья по некоторому критерию (например, пока улучшается качество на отложенной выборке). Считается, что стрижка работает лучше, чем критерии останова."
      ]
    },
    {
      "cell_type": "markdown",
      "metadata": {
        "id": "t9Lc5HJnabXU"
      },
      "source": [
        "Одним из методов стрижки является _cost-complexity pruning_. Допустим, мы построили дерево, обозначенное как $T_{0}$. В каждом из листьев находятся объекты одного класса, и значение функционала ошибки $R(T)$ при этом будет минимально на $T_{0}$. Для борьбы с переобучением к нему добавляют \"штраф\" за размер дерева (аналогично регуляризации, рассмотренной нами в предыдущих уроках) и получают новый функционал $R_{\\alpha}(T)$:\n",
        "\n",
        "$$R_{\\alpha}(T) = R(T) + \\alpha|T|,$$\n",
        "\n",
        "где $|T|$ - число листьев в дереве, $\\alpha$ - некоторый параметр регуляризации. Таким образом если при построении дерева на каком-то этапе построения алгоритма ошибка будет неизменна, а глубина дерева увеличиваться, итоговый функционал, состоящий из их суммы, будет расти."
      ]
    },
    {
      "cell_type": "markdown",
      "metadata": {
        "id": "jSY2sT6CabXV"
      },
      "source": [
        "Однако стрижка деревьев обладает существенными минусами. В частности, она является очень трудоемкой процедурой. Например, она может требовать вычисления функционала качества на валидационной выборке на каждом шаге. К тому же, на данный момент одиночные деревья на практике почти не используются, а используются композиции деревьев, и в этом случае стрижка как метод борьбы с переобучением становится еще более сложным подходом. Обычно в такой ситуации достаточно использовать простые критерии останова."
      ]
    },
    {
      "cell_type": "markdown",
      "metadata": {
        "id": "g5FCRiMOabXW"
      },
      "source": [
        "## CART"
      ]
    },
    {
      "cell_type": "markdown",
      "metadata": {
        "id": "cMNNa6u1abXX"
      },
      "source": [
        "CART (Classification and regression trees) - первый из алгоритмов, состоящий в обычном последовательном построении дерева решений и придуманный в 1983 году. На первой итерации строятся все возможные разбиения исходного пространства на два и выбирается такое, при котором максимально выделен один из классов в одно подпространство. На следующих итерациях выбирается худший лист (с наибольшим разнообразием классов), и на нем проводится та же операция. Так продложается до достижения одного из критериев останова. \n",
        "\n",
        "Полученное дерево будет подогнано под обучающую выборку (переобучено), так что затем требуется его кросс-валидация или обрезка методом cost-complexity pruning. "
      ]
    },
    {
      "cell_type": "markdown",
      "metadata": {
        "id": "AQbwzLsWabXY"
      },
      "source": [
        "В качестве функции оценки качества разбиения используется критерий Джини, который также может быть записан как\n",
        "\n",
        "$$H(X) = 1 - \\sum^{K}_{k=1}p_{k}^{2}.$$\n",
        "\n",
        "в sklearn реализована улучшенная версия именно алгоритма CART."
      ]
    },
    {
      "cell_type": "markdown",
      "metadata": {
        "id": "sWm0sO22abXZ"
      },
      "source": [
        "## Реализация дерева решений"
      ]
    },
    {
      "cell_type": "markdown",
      "metadata": {
        "id": "9yZFTHXJabXa"
      },
      "source": [
        "Реализуем алгоритм алгоритм работы дерева решений своими руками."
      ]
    },
    {
      "cell_type": "code",
      "metadata": {
        "id": "u7Xi827dabXb",
        "colab": {
          "base_uri": "https://localhost:8080/"
        },
        "outputId": "99da2a97-2dbc-41f5-9659-9a9898f05435"
      },
      "source": [
        "import matplotlib.pyplot as plt\n",
        "%matplotlib inline\n",
        "import random\n",
        "\n",
        "from matplotlib.colors import ListedColormap\n",
        "from sklearn import datasets\n",
        "\n",
        "import numpy as np"
      ],
      "execution_count": 6,
      "outputs": [
        {
          "output_type": "stream",
          "name": "stderr",
          "text": [
            "[DEBUG@matplotlib.pyplot] Loaded backend module://ipykernel.pylab.backend_inline version unknown.\n"
          ]
        }
      ]
    },
    {
      "cell_type": "code",
      "metadata": {
        "id": "6FZaieu8abXe"
      },
      "source": [
        "# сгенерируем данные\n",
        "classification_data, classification_labels = datasets.make_classification(n_features = 2, n_informative = 2, \n",
        "                                                      n_classes = 2, n_redundant=0, \n",
        "                                                      n_clusters_per_class=1, random_state=5)"
      ],
      "execution_count": 7,
      "outputs": []
    },
    {
      "cell_type": "code",
      "metadata": {
        "id": "FHpOr1k6abXg",
        "scrolled": false,
        "colab": {
          "base_uri": "https://localhost:8080/",
          "height": 483
        },
        "outputId": "a703a45d-ac24-4262-b670-a5ec26427792"
      },
      "source": [
        "# визуализируем сгенерированные данные\n",
        "\n",
        "colors = ListedColormap(['red', 'blue'])\n",
        "light_colors = ListedColormap(['lightcoral', 'lightblue'])\n",
        "\n",
        "plt.figure(figsize=(8,8))\n",
        "plt.scatter(list(map(lambda x: x[0], classification_data)), list(map(lambda x: x[1], classification_data)), \n",
        "              c=classification_labels, cmap=colors)\n",
        "plt.show()"
      ],
      "execution_count": 39,
      "outputs": [
        {
          "output_type": "display_data",
          "data": {
            "image/png": "[encoded data removed]",
            "text/plain": [
              "<Figure size 576x576 with 1 Axes>"
            ]
          },
          "metadata": {
            "needs_background": "light"
          }
        }
      ]
    },
    {
      "cell_type": "code",
      "metadata": {
        "id": "Duu45IJUabXi"
      },
      "source": [
        "# Реализуем класс узла\n",
        "\n",
        "class Node:\n",
        "    \n",
        "    def __init__(self, index, t, true_branch, false_branch):\n",
        "        self.index = index  # индекс признака, по которому ведется сравнение с порогом в этом узле\n",
        "        self.t = t  # значение порога\n",
        "        self.true_branch = true_branch  # поддерево, удовлетворяющее условию в узле\n",
        "        self.false_branch = false_branch  # поддерево, не удовлетворяющее условию в узле"
      ],
      "execution_count": 9,
      "outputs": []
    },
    {
      "cell_type": "code",
      "metadata": {
        "id": "QY8oNtakabXl"
      },
      "source": [
        "# И класс терминального узла (листа)\n",
        "\n",
        "class Leaf:\n",
        "    \n",
        "    def __init__(self, data, labels):\n",
        "        self.data = data # значения признаков\n",
        "        self.labels = labels  # y_true\n",
        "        self.prediction = self.predict()  # y_pred\n",
        "        \n",
        "    def predict(self):\n",
        "        # подсчет количества объектов разных классов\n",
        "        classes = {}  # сформируем словарь \"класс: количество объектов\"\n",
        "        for label in self.labels:\n",
        "            if label not in classes:\n",
        "                classes[label] = 0\n",
        "            classes[label] += 1\n",
        "        #  найдем класс, количество объектов которого будет максимальным в этом листе и вернем его   \n",
        "        prediction = max(classes, key=classes.get)\n",
        "        return prediction"
      ],
      "execution_count": 10,
      "outputs": []
    },
    {
      "cell_type": "markdown",
      "metadata": {
        "id": "ejptsM1WxIcK"
      },
      "source": [
        "Обозначим через $p_{k}$ долю объектов класса $k$ в выборке $X$: $$p_{k} = \\frac{1}{|X|}\\sum_{i\\in X}[y_{i} = k].$$\n",
        "$p_{k}$ будет характеризовать вероятность выдачи класса $k$."
      ]
    },
    {
      "cell_type": "code",
      "metadata": {
        "id": "94V_amRoxIcK"
      },
      "source": [
        "# p = classes[label] / len(labels)"
      ],
      "execution_count": 11,
      "outputs": []
    },
    {
      "cell_type": "markdown",
      "metadata": {
        "id": "GBZOKPC8xIcL"
      },
      "source": [
        "Критерий Джини, который также может быть записан как\n",
        "\n",
        "$$H(X) = 1 - \\sum^{K}_{k=1}p_{k}^{2}.$$"
      ]
    },
    {
      "cell_type": "code",
      "metadata": {
        "id": "4ZXEli62xIcL"
      },
      "source": [
        "# impurity -= p ** 2"
      ],
      "execution_count": 12,
      "outputs": []
    },
    {
      "cell_type": "code",
      "metadata": {
        "id": "uBdli3WDabXn"
      },
      "source": [
        "# Расчет критерия Джини\n",
        "\n",
        "def gini(labels):\n",
        "    #  подсчет количества объектов разных классов\n",
        "    classes = {}\n",
        "    for label in labels:\n",
        "        if label not in classes:\n",
        "            classes[label] = 0\n",
        "        classes[label] += 1\n",
        "    \n",
        "    #  расчет критерия\n",
        "    impurity = 1     # \"impurity\" - \"нечистота\", степень неопределенности\n",
        "    for label in classes:\n",
        "        p = classes[label] / len(labels) # долю объектов класса в листе\n",
        "        impurity -= p ** 2 # Критерий Джини\n",
        "        \n",
        "    return impurity"
      ],
      "execution_count": 13,
      "outputs": []
    },
    {
      "cell_type": "markdown",
      "metadata": {
        "id": "r3azK19hxIcL"
      },
      "source": [
        "Функционал качества\n",
        "\n",
        "$$Q(X_{m}, j, t) = H(X_{m}) - \\frac{|X_{l}|}{|X_{m}|}H(X_{l}) - \\frac{|X_{r}|}{|X_{m}|}H(X_{r}),$$"
      ]
    },
    {
      "cell_type": "code",
      "metadata": {
        "id": "wasxZhdQxIcM"
      },
      "source": [
        "# current_gini - p * gini(left_labels) - (1 - p) * gini(right_labels)"
      ],
      "execution_count": 14,
      "outputs": []
    },
    {
      "cell_type": "markdown",
      "metadata": {
        "id": "H82qGhi6xIcM"
      },
      "source": [
        "$$\\frac{|X_{l}|}{|X_{m}|}$$"
      ]
    },
    {
      "cell_type": "code",
      "metadata": {
        "id": "2EXvl1p7xIcM"
      },
      "source": [
        "# float(left_labels.shape[0]) / (left_labels.shape[0] + right_labels.shape[0])"
      ],
      "execution_count": 15,
      "outputs": []
    },
    {
      "cell_type": "code",
      "metadata": {
        "id": "9vvLDhuRabXr"
      },
      "source": [
        "# Расчет качества\n",
        "\n",
        "def quality(left_labels, right_labels, current_gini):\n",
        "\n",
        "    # доля выборки, ушедшей в левое поддерево\n",
        "    p = float(left_labels.shape[0]) / (left_labels.shape[0] + right_labels.shape[0]) # для правого (1-p)\n",
        "    \n",
        "    return current_gini - p * gini(left_labels) - (1 - p) * gini(right_labels) # Функционал качества"
      ],
      "execution_count": 16,
      "outputs": []
    },
    {
      "cell_type": "code",
      "metadata": {
        "id": "nhWkphi3abXt"
      },
      "source": [
        "# Разбиение датасета в узле\n",
        "\n",
        "def split(data, labels, index, t):\n",
        "    \n",
        "    left = np.where(data[:, index] <= t)\n",
        "    right = np.where(data[:, index] > t)\n",
        "        \n",
        "    true_data = data[left]\n",
        "    false_data = data[right]\n",
        "    true_labels = labels[left]\n",
        "    false_labels = labels[right]\n",
        "        \n",
        "    return true_data, false_data, true_labels, false_labels"
      ],
      "execution_count": 17,
      "outputs": []
    },
    {
      "cell_type": "code",
      "metadata": {
        "id": "5wi8Fbs_abXw"
      },
      "source": [
        "# Нахождение наилучшего разбиения\n",
        "\n",
        "def find_best_split(data, labels):\n",
        "    \n",
        "    #  обозначим минимальное количество объектов в узле\n",
        "    min_leaf = 5\n",
        "\n",
        "    current_gini = gini(labels) \n",
        "\n",
        "    best_quality = 0\n",
        "    best_t = None # лучший порог разбиения\n",
        "    best_index = None # лучший индекс разбиения\n",
        "    \n",
        "    n_features = data.shape[1] # кол-во признаков\n",
        "    \n",
        "    for index in range(n_features): # проход по всем признакам\n",
        "        t_values = [row[index] for row in data] # берем столбец/признак с соотв. индексом\n",
        "        \n",
        "        for t in t_values: # проход по признаку\n",
        "            true_data, false_data, true_labels, false_labels = split(data, labels, index, t) # делаем разбиение\n",
        "            #  пропускаем разбиения, в которых в узле остается менее 5 объектов\n",
        "            if len(true_data) < min_leaf or len(false_data) < min_leaf:\n",
        "                continue # начинаем следующий проход цикла, минуя оставшееся тело цикла\n",
        "            \n",
        "            # расчет качества текущего разбиения\n",
        "            current_quality = quality(true_labels, false_labels, current_gini)\n",
        "            \n",
        "            #  выбираем порог, на котором получается максимальный прирост качества\n",
        "            if current_quality > best_quality:\n",
        "                best_quality, best_t, best_index = current_quality, t, index\n",
        "\n",
        "    return best_quality, best_t, best_index"
      ],
      "execution_count": 18,
      "outputs": []
    },
    {
      "cell_type": "code",
      "metadata": {
        "id": "f1__qSXSabXy"
      },
      "source": [
        "# Построение дерева с помощью рекурсивной функции\n",
        "\n",
        "def build_tree(data, labels):\n",
        "\n",
        "    quality, t, index = find_best_split(data, labels) # ищем лучшее разбиение\n",
        "#     print(quality, t, index)\n",
        "\n",
        "    #  Базовый случай - прекращаем рекурсию, когда нет прироста в качества\n",
        "    # неопределенность после разбиения осталась такой же как до\n",
        "    if quality == 0: # критерий останова\n",
        "#         print('leaf')\n",
        "        return Leaf(data, labels) # считаем прогноз для листьев\n",
        "\n",
        "    # если качество улучшилось, то делим дерево по лучшему разбиению\n",
        "    true_data, false_data, true_labels, false_labels = split(data, labels, index, t)\n",
        "\n",
        "    # Рекурсивно строим два поддерева\n",
        "    true_branch = build_tree(true_data, true_labels)\n",
        "    false_branch = build_tree(false_data, false_labels)\n",
        "\n",
        "    # Возвращаем класс узла со всеми поддеревьями, то есть целого дерева\n",
        "    return Node(index, t, true_branch, false_branch)"
      ],
      "execution_count": 19,
      "outputs": []
    },
    {
      "cell_type": "code",
      "metadata": {
        "id": "F7ruKazCabX3"
      },
      "source": [
        "# Проход объекта по дереву для его классификации\n",
        "\n",
        "def classify_object(obj, node):\n",
        "\n",
        "    #  Останавливаем рекурсию, если достигли листа\n",
        "    if isinstance(node, Leaf): # проверка текущий узел это лист?\n",
        "        answer = node.prediction # считаем прогноз для листа\n",
        "        return answer\n",
        "\n",
        "    if obj[node.index] <= node.t: # если значение признака меньше порога t\n",
        "        return classify_object(obj, node.true_branch) # рекурсия: отправляем объект в true-ветку\n",
        "    else:\n",
        "        return classify_object(obj, node.false_branch) # рекурсия: отправляем объект в false-ветку"
      ],
      "execution_count": 20,
      "outputs": []
    },
    {
      "cell_type": "code",
      "metadata": {
        "id": "SLOdTAqdabX7"
      },
      "source": [
        "# Предсказание деревом для всего датасета\n",
        "\n",
        "def predict(data, tree):\n",
        "    \n",
        "    classes = []\n",
        "    for obj in data:\n",
        "        prediction = classify_object(obj, tree) # определяем ветки для объектов\n",
        "        classes.append(prediction)\n",
        "    return classes"
      ],
      "execution_count": 21,
      "outputs": []
    },
    {
      "cell_type": "code",
      "metadata": {
        "id": "wnDPkwVJabYA"
      },
      "source": [
        "# Разобьем выборку на обучающую и тестовую\n",
        "\n",
        "from sklearn import model_selection\n",
        "\n",
        "train_data, test_data, train_labels, test_labels = model_selection.train_test_split(classification_data, \n",
        "                                                                                     classification_labels, \n",
        "                                                                                     test_size = 0.3,\n",
        "                                                                                     random_state = 1)"
      ],
      "execution_count": 22,
      "outputs": []
    },
    {
      "cell_type": "code",
      "metadata": {
        "id": "UbbvkqvOabYD",
        "colab": {
          "base_uri": "https://localhost:8080/",
          "height": 100
        },
        "outputId": "b794073b-5b5e-4bfe-f39c-658456375ac0"
      },
      "source": [
        "# Построим дерево по обучающей выборке\n",
        "my_tree = build_tree(train_data, train_labels)\n",
        "print(my_tree)\n",
        "display(my_tree.index, my_tree.t, my_tree.true_branch , my_tree.false_branch)"
      ],
      "execution_count": 23,
      "outputs": [
        {
          "output_type": "stream",
          "name": "stdout",
          "text": [
            "<__main__.Node object at 0x7f32464c1b90>\n"
          ]
        },
        {
          "output_type": "display_data",
          "data": {
            "text/plain": [
              "0"
            ]
          },
          "metadata": {}
        },
        {
          "output_type": "display_data",
          "data": {
            "text/plain": [
              "0.16261402870113306"
            ]
          },
          "metadata": {}
        },
        {
          "output_type": "display_data",
          "data": {
            "text/plain": [
              "<__main__.Node at 0x7f32464c1b10>"
            ]
          },
          "metadata": {}
        },
        {
          "output_type": "display_data",
          "data": {
            "text/plain": [
              "<__main__.Leaf at 0x7f32464c1b50>"
            ]
          },
          "metadata": {}
        }
      ]
    },
    {
      "cell_type": "code",
      "metadata": {
        "id": "GF1rVs9VabYG",
        "colab": {
          "base_uri": "https://localhost:8080/"
        },
        "outputId": "2c7db96c-675b-441a-bb41-725e44f99e3e"
      },
      "source": [
        "# Напечатаем ход нашего дерева\n",
        "def print_tree(node, spacing=\"\"):\n",
        "\n",
        "    # Если лист, то выводим его прогноз\n",
        "    if isinstance(node, Leaf):\n",
        "        print(spacing + \"Прогноз:\", node.prediction)\n",
        "        return\n",
        "\n",
        "    # Выведем значение индекса и порога на этом узле\n",
        "    print(spacing + 'Индекс', str(node.index))\n",
        "    print(spacing + 'Порог', str(node.t))\n",
        "\n",
        "    # Рекурсионный вызов функции на положительном поддереве\n",
        "    print (spacing + '--> True:')\n",
        "    print_tree(node.true_branch, spacing + \"  \")\n",
        "\n",
        "    # Рекурсионный вызов функции на отрицательном поддереве\n",
        "    print (spacing + '--> False:')\n",
        "    print_tree(node.false_branch, spacing + \"  \")\n",
        "    \n",
        "print_tree(my_tree)"
      ],
      "execution_count": 24,
      "outputs": [
        {
          "output_type": "stream",
          "name": "stdout",
          "text": [
            "Индекс 0\n",
            "Порог 0.16261402870113306\n",
            "--> True:\n",
            "  Индекс 1\n",
            "  Порог -1.5208896621663803\n",
            "  --> True:\n",
            "    Индекс 0\n",
            "    Порог -0.9478301462477035\n",
            "    --> True:\n",
            "      Прогноз: 0\n",
            "    --> False:\n",
            "      Прогноз: 1\n",
            "  --> False:\n",
            "    Прогноз: 0\n",
            "--> False:\n",
            "  Прогноз: 1\n"
          ]
        }
      ]
    },
    {
      "cell_type": "code",
      "metadata": {
        "id": "CyvzFQp3abYI",
        "colab": {
          "base_uri": "https://localhost:8080/"
        },
        "outputId": "905b88b1-0df6-40a8-a215-550aca0c7cb6"
      },
      "source": [
        "# Получим ответы для обучающей выборки \n",
        "train_answers = predict(train_data, my_tree)\n",
        "train_answers[:5]"
      ],
      "execution_count": 25,
      "outputs": [
        {
          "output_type": "execute_result",
          "data": {
            "text/plain": [
              "[1, 1, 0, 0, 1]"
            ]
          },
          "metadata": {},
          "execution_count": 25
        }
      ]
    },
    {
      "cell_type": "code",
      "metadata": {
        "id": "Rl6IyN8yabYN"
      },
      "source": [
        "# И получим ответы для тестовой выборки\n",
        "answers = predict(test_data, my_tree)"
      ],
      "execution_count": 26,
      "outputs": []
    },
    {
      "cell_type": "markdown",
      "metadata": {
        "id": "-vjPDt1DxIcR"
      },
      "source": [
        "Accuracy = расчет *доли правильных ответов*:\n",
        "\n",
        "$$accuracy(a,x) = \\frac{1}{l} \\sum^{l}_{i=1}[a(x_{i})=y_{i}].$$"
      ]
    },
    {
      "cell_type": "code",
      "metadata": {
        "id": "2odXAe7vabYP"
      },
      "source": [
        "# Введем функцию подсчета точности как доли правильных ответов\n",
        "def accuracy_metric(actual, predicted):\n",
        "    correct = 0\n",
        "    for i in range(len(actual)):\n",
        "        if actual[i] == predicted[i]:\n",
        "            correct += 1\n",
        "    return correct / float(len(actual)) * 100.0"
      ],
      "execution_count": 27,
      "outputs": []
    },
    {
      "cell_type": "code",
      "metadata": {
        "id": "Jn0L6r8CabYS",
        "colab": {
          "base_uri": "https://localhost:8080/"
        },
        "outputId": "aaa8fd14-23a0-4b97-d91d-81edc866a8ba"
      },
      "source": [
        "# Точность на обучающей выборке\n",
        "train_accuracy = accuracy_metric(train_labels, train_answers)\n",
        "train_accuracy"
      ],
      "execution_count": 28,
      "outputs": [
        {
          "output_type": "execute_result",
          "data": {
            "text/plain": [
              "98.57142857142858"
            ]
          },
          "metadata": {},
          "execution_count": 28
        }
      ]
    },
    {
      "cell_type": "code",
      "metadata": {
        "id": "D__eGtLRabYU",
        "colab": {
          "base_uri": "https://localhost:8080/"
        },
        "outputId": "1b29e6de-6515-41ad-89e7-57c40bd6c2bf"
      },
      "source": [
        "# Точность на тестовой выборке\n",
        "test_accuracy = accuracy_metric(test_labels, answers)\n",
        "test_accuracy"
      ],
      "execution_count": 29,
      "outputs": [
        {
          "output_type": "execute_result",
          "data": {
            "text/plain": [
              "100.0"
            ]
          },
          "metadata": {},
          "execution_count": 29
        }
      ]
    },
    {
      "cell_type": "code",
      "metadata": {
        "id": "TEHbV9hXabYW",
        "colab": {
          "base_uri": "https://localhost:8080/",
          "height": 1000
        },
        "outputId": "0f545d54-4283-4b0f-e103-32bb2c5a8811"
      },
      "source": [
        "# Визуализируем дерево на графике\n",
        "\n",
        "def get_meshgrid(data, step=.05, border=1.2):\n",
        "    x_min, x_max = data[:, 0].min() - border, data[:, 0].max() + border\n",
        "    y_min, y_max = data[:, 1].min() - border, data[:, 1].max() + border\n",
        "    return np.meshgrid(np.arange(x_min, x_max, step), np.arange(y_min, y_max, step)) # список массивов координатных сеток\n",
        "\n",
        "plt.figure(figsize = (16, 7))\n",
        "\n",
        "# график обучающей выборки\n",
        "plt.subplot(1,2,1)\n",
        "xx, yy = get_meshgrid(train_data)\n",
        "mesh_predictions = np.array(predict(np.c_[xx.ravel(), yy.ravel()], my_tree)).reshape(xx.shape) # определяем цвета квадратов в сетке\n",
        "plt.pcolormesh(xx, yy, mesh_predictions, cmap = light_colors)\n",
        "plt.scatter(train_data[:, 0], train_data[:, 1], c = train_labels, cmap = colors)\n",
        "plt.title(f'Train accuracy={train_accuracy:.2f}')\n",
        "\n",
        "# график тестовой выборки\n",
        "plt.subplot(1,2,2)\n",
        "plt.pcolormesh(xx, yy, mesh_predictions, cmap = light_colors)\n",
        "plt.scatter(test_data[:, 0], test_data[:, 1], c = test_labels, cmap = colors)\n",
        "plt.title(f'Test accuracy={test_accuracy:.2f}')"
      ],
      "execution_count": 30,
      "outputs": [
        {
          "output_type": "execute_result",
          "data": {
            "text/plain": [
              "Text(0.5, 1.0, 'Test accuracy=100.00')"
            ]
          },
          "metadata": {},
          "execution_count": 30
        },
        {
          "output_type": "stream",
          "name": "stderr",
          "text": [
            "[DEBUG@matplotlib.font_manager] findfont: Matching sans\\-serif:style=normal:variant=normal:weight=normal:stretch=normal:size=12.0.\n",
            "[DEBUG@matplotlib.font_manager] findfont: score(<Font 'STIXGeneral' (STIXGeneralItalic.ttf) italic normal 400 normal>) = 11.05\n",
            "[DEBUG@matplotlib.font_manager] findfont: score(<Font 'DejaVu Sans' (DejaVuSans.ttf) normal normal 400 normal>) = 0.05\n",
            "[DEBUG@matplotlib.font_manager] findfont: score(<Font 'STIXSizeFourSym' (STIXSizFourSymBol.ttf) normal normal 700 normal>) = 10.335\n",
            "[DEBUG@matplotlib.font_manager] findfont: score(<Font 'cmb10' (cmb10.ttf) normal normal 400 normal>) = 10.05\n",
            "[DEBUG@matplotlib.font_manager] findfont: score(<Font 'DejaVu Sans' (DejaVuSans-Oblique.ttf) oblique normal 400 normal>) = 1.05\n",
            "[DEBUG@matplotlib.font_manager] findfont: score(<Font 'STIXSizeTwoSym' (STIXSizTwoSymReg.ttf) normal normal regular normal>) = 10.05\n",
            "[DEBUG@matplotlib.font_manager] findfont: score(<Font 'STIXGeneral' (STIXGeneralBolIta.ttf) italic normal 700 normal>) = 11.335\n",
            "[DEBUG@matplotlib.font_manager] findfont: score(<Font 'cmex10' (cmex10.ttf) normal normal 400 normal>) = 10.05\n",
            "[DEBUG@matplotlib.font_manager] findfont: score(<Font 'DejaVu Serif' (DejaVuSerif-Italic.ttf) italic normal 400 normal>) = 11.05\n",
            "[DEBUG@matplotlib.font_manager] findfont: score(<Font 'cmss10' (cmss10.ttf) normal normal 400 normal>) = 10.05\n",
            "[DEBUG@matplotlib.font_manager] findfont: score(<Font 'STIXSizeTwoSym' (STIXSizTwoSymBol.ttf) normal normal 700 normal>) = 10.335\n",
            "[DEBUG@matplotlib.font_manager] findfont: score(<Font 'STIXNonUnicode' (STIXNonUniBol.ttf) normal normal 700 normal>) = 10.335\n",
            "[DEBUG@matplotlib.font_manager] findfont: score(<Font 'DejaVu Sans Mono' (DejaVuSansMono-BoldOblique.ttf) oblique normal 700 normal>) = 11.335\n",
            "[DEBUG@matplotlib.font_manager] findfont: score(<Font 'STIXSizeThreeSym' (STIXSizThreeSymReg.ttf) normal normal regular normal>) = 10.05\n",
            "[DEBUG@matplotlib.font_manager] findfont: score(<Font 'STIXSizeThreeSym' (STIXSizThreeSymBol.ttf) normal normal 700 normal>) = 10.335\n",
            "[DEBUG@matplotlib.font_manager] findfont: score(<Font 'DejaVu Serif' (DejaVuSerif-Bold.ttf) normal normal 700 normal>) = 10.335\n",
            "[DEBUG@matplotlib.font_manager] findfont: score(<Font 'STIXGeneral' (STIXGeneralBol.ttf) normal normal 700 normal>) = 10.335\n",
            "[DEBUG@matplotlib.font_manager] findfont: score(<Font 'DejaVu Sans Mono' (DejaVuSansMono.ttf) normal normal 400 normal>) = 10.05\n",
            "[DEBUG@matplotlib.font_manager] findfont: score(<Font 'STIXSizeFourSym' (STIXSizFourSymReg.ttf) normal normal regular normal>) = 10.05\n",
            "[DEBUG@matplotlib.font_manager] findfont: score(<Font 'cmtt10' (cmtt10.ttf) normal normal 400 normal>) = 10.05\n",
            "[DEBUG@matplotlib.font_manager] findfont: score(<Font 'DejaVu Sans Display' (DejaVuSansDisplay.ttf) normal normal 400 normal>) = 10.05\n",
            "[DEBUG@matplotlib.font_manager] findfont: score(<Font 'STIXNonUnicode' (STIXNonUni.ttf) normal normal regular normal>) = 10.05\n",
            "[DEBUG@matplotlib.font_manager] findfont: score(<Font 'STIXSizeOneSym' (STIXSizOneSymReg.ttf) normal normal regular normal>) = 10.05\n",
            "[DEBUG@matplotlib.font_manager] findfont: score(<Font 'DejaVu Sans Mono' (DejaVuSansMono-Bold.ttf) normal normal 700 normal>) = 10.335\n",
            "[DEBUG@matplotlib.font_manager] findfont: score(<Font 'STIXNonUnicode' (STIXNonUniIta.ttf) italic normal 400 normal>) = 11.05\n",
            "[DEBUG@matplotlib.font_manager] findfont: score(<Font 'cmsy10' (cmsy10.ttf) normal normal 400 normal>) = 10.05\n",
            "[DEBUG@matplotlib.font_manager] findfont: score(<Font 'cmmi10' (cmmi10.ttf) normal normal 400 normal>) = 10.05\n",
            "[DEBUG@matplotlib.font_manager] findfont: score(<Font 'STIXNonUnicode' (STIXNonUniBolIta.ttf) italic normal 700 normal>) = 11.335\n",
            "[DEBUG@matplotlib.font_manager] findfont: score(<Font 'DejaVu Sans' (DejaVuSans-BoldOblique.ttf) oblique normal 700 normal>) = 1.335\n",
            "[DEBUG@matplotlib.font_manager] findfont: score(<Font 'STIXSizeFiveSym' (STIXSizFiveSymReg.ttf) normal normal regular normal>) = 10.05\n",
            "[DEBUG@matplotlib.font_manager] findfont: score(<Font 'cmr10' (cmr10.ttf) normal normal 400 normal>) = 10.05\n",
            "[DEBUG@matplotlib.font_manager] findfont: score(<Font 'DejaVu Serif Display' (DejaVuSerifDisplay.ttf) normal normal 400 normal>) = 10.05\n",
            "[DEBUG@matplotlib.font_manager] findfont: score(<Font 'STIXSizeOneSym' (STIXSizOneSymBol.ttf) normal normal 700 normal>) = 10.335\n",
            "[DEBUG@matplotlib.font_manager] findfont: score(<Font 'STIXGeneral' (STIXGeneral.ttf) normal normal regular normal>) = 10.05\n",
            "[DEBUG@matplotlib.font_manager] findfont: score(<Font 'DejaVu Serif' (DejaVuSerif-BoldItalic.ttf) italic normal 700 normal>) = 11.335\n",
            "[DEBUG@matplotlib.font_manager] findfont: score(<Font 'DejaVu Serif' (DejaVuSerif.ttf) normal normal 400 normal>) = 10.05\n",
            "[DEBUG@matplotlib.font_manager] findfont: score(<Font 'DejaVu Sans Mono' (DejaVuSansMono-Oblique.ttf) oblique normal 400 normal>) = 11.05\n",
            "[DEBUG@matplotlib.font_manager] findfont: score(<Font 'DejaVu Sans' (DejaVuSans-Bold.ttf) normal normal 700 normal>) = 0.33499999999999996\n",
            "[DEBUG@matplotlib.font_manager] findfont: score(<Font 'Liberation Serif' (LiberationSerif-Bold.ttf) normal normal 700 normal>) = 10.335\n",
            "[DEBUG@matplotlib.font_manager] findfont: score(<Font 'Liberation Sans Narrow' (LiberationSansNarrow-Bold.ttf) normal normal 700 condensed>) = 10.535\n",
            "[DEBUG@matplotlib.font_manager] findfont: score(<Font 'Liberation Sans' (LiberationSans-Regular.ttf) normal normal 400 normal>) = 10.05\n",
            "[DEBUG@matplotlib.font_manager] findfont: score(<Font 'Liberation Sans Narrow' (LiberationSansNarrow-BoldItalic.ttf) italic normal 700 condensed>) = 11.535\n",
            "[DEBUG@matplotlib.font_manager] findfont: score(<Font 'Liberation Serif' (LiberationSerif-Italic.ttf) italic normal 400 normal>) = 11.05\n",
            "[DEBUG@matplotlib.font_manager] findfont: score(<Font 'Liberation Sans Narrow' (LiberationSansNarrow-Italic.ttf) italic normal 400 condensed>) = 11.25\n",
            "[DEBUG@matplotlib.font_manager] findfont: score(<Font 'Liberation Mono' (LiberationMono-BoldItalic.ttf) italic normal 700 normal>) = 11.335\n",
            "[DEBUG@matplotlib.font_manager] findfont: score(<Font 'Liberation Sans' (LiberationSans-Bold.ttf) normal normal 700 normal>) = 10.335\n",
            "[DEBUG@matplotlib.font_manager] findfont: score(<Font 'Humor Sans' (Humor-Sans.ttf) normal normal 400 normal>) = 10.05\n",
            "[DEBUG@matplotlib.font_manager] findfont: score(<Font 'Liberation Sans Narrow' (LiberationSansNarrow-Regular.ttf) normal normal 400 condensed>) = 10.25\n",
            "[DEBUG@matplotlib.font_manager] findfont: score(<Font 'Liberation Mono' (LiberationMono-Bold.ttf) normal normal 700 normal>) = 10.335\n",
            "[DEBUG@matplotlib.font_manager] findfont: score(<Font 'Liberation Serif' (LiberationSerif-Regular.ttf) normal normal 400 normal>) = 10.05\n",
            "[DEBUG@matplotlib.font_manager] findfont: score(<Font 'Liberation Sans' (LiberationSans-Italic.ttf) italic normal 400 normal>) = 11.05\n",
            "[DEBUG@matplotlib.font_manager] findfont: score(<Font 'Liberation Serif' (LiberationSerif-BoldItalic.ttf) italic normal 700 normal>) = 11.335\n",
            "[DEBUG@matplotlib.font_manager] findfont: score(<Font 'Liberation Mono' (LiberationMono-Italic.ttf) italic normal 400 normal>) = 11.05\n",
            "[DEBUG@matplotlib.font_manager] findfont: score(<Font 'Liberation Sans' (LiberationSans-BoldItalic.ttf) italic normal 700 normal>) = 11.335\n",
            "[DEBUG@matplotlib.font_manager] findfont: score(<Font 'Liberation Mono' (LiberationMono-Regular.ttf) normal normal 400 normal>) = 10.05\n",
            "[DEBUG@matplotlib.font_manager] findfont: Matching sans\\-serif:style=normal:variant=normal:weight=normal:stretch=normal:size=12.0 to DejaVu Sans ('/usr/local/lib/python3.7/dist-packages/matplotlib/mpl-data/fonts/ttf/DejaVuSans.ttf') with score of 0.050000.\n"
          ]
        },
        {
          "output_type": "display_data",
          "data": {
            "image/png": "[encoded data removed]",
            "text/plain": [
              "<Figure size 1152x504 with 2 Axes>"
            ]
          },
          "metadata": {
            "needs_background": "light"
          }
        }
      ]
    },
    {
      "cell_type": "markdown",
      "metadata": {
        "id": "DC48TQN9abYY"
      },
      "source": [
        "Как видно, дерево строит кусочно-постоянную разделяющую гиперплоскость, то есть состоящую из прямых, параллельных осям. Чем глубже дерево, тем сложнее гиперплоскость. Также происходит и в случае регрессии - график зависимости целевого значения восстанавливается кусочно-постоянной функцией."
      ]
    },
    {
      "cell_type": "markdown",
      "metadata": {
        "id": "eAYfxLSTabYZ"
      },
      "source": [
        "## Работа деревьев в случае пропущенных значений"
      ]
    },
    {
      "cell_type": "markdown",
      "metadata": {
        "id": "nhyvKAv2abYa"
      },
      "source": [
        "Иногда в реальных задачах бывает так, что не для всех объектов известно значение того или иного признака. Одним из преимуществ деревьев решений является возможность обрабатывать такие случаи.\n",
        "\n",
        "Допустим, требуется вычислить функционал качества для разбиения $[x_{j}<t]$, но в выборке $X_{m}$ для некоторого подмножества объектов $V_{j}$ неизвестно значение $j$-го признака. В этом случае функционал качества рассчитывается без учета этих объектов (обозначим выборку без их учета как $X_{m}\\text{\\ }V_{j}$), с поправкой на потерю информации:\n",
        "\n",
        "$$Q_{X_{m}, j, t} = \\frac{|X_{m}\\text{\\ } V_{j}|}{|X_{m}|}Q(X_{m}\\text{\\ }V_{j}, j,t).$$"
      ]
    },
    {
      "cell_type": "markdown",
      "metadata": {
        "id": "V9mAVLqrabYb"
      },
      "source": [
        "Если такое разбиение окажется лучшим, объекты из $V_{j}$ помещаются в оба образованных поддерева.\n",
        "\n",
        "На этапе применения дерева выполняется похожая операция. Если объект попал в вершину, в которой нельзя вычислить критерий разбиения из-за отсутствия значения необходимого признака, прогнозы для него вычисляются в обоих поддеревьях, а затем усредняются с весами, пропорциональными числу объектов в них.\n",
        "\n",
        "$$\\frac{|X_{l}|}{|X_{m}|}a_{l}(x) + \\frac{|X_{r}|}{|X_{m}|}a_{r}(x),$$\n",
        "\n",
        "где $a$ - прогноз вероятности отнесения объекта $x$ к одному из классов."
      ]
    },
    {
      "cell_type": "markdown",
      "metadata": {
        "id": "VMUVpzQ-abYd"
      },
      "source": [
        "Кроме этого подхода существует метод построения _суррогатных предикатов_ в каждой вершине. Проще говоря, это запасной предикат, который использует другой признак, но при этом дает максимально близкое к исходному разбиение."
      ]
    },
    {
      "cell_type": "markdown",
      "metadata": {
        "id": "jyKBrnbpabYd"
      },
      "source": [
        "## Работа деревьев с категориальными признаками"
      ]
    },
    {
      "cell_type": "markdown",
      "metadata": {
        "id": "WaIif9BAabYe"
      },
      "source": [
        "Кроме вещественных и бинарных признаков в задаче могут иметь место категориальные признаки (делящиеся на конечное число категорий, например, цвета автомобилей). Самый простой способ учета категориальных признаков в алгоритме деревьев состоит в разбитии вершины на столько поддеревьев, сколько имеется возможных значений признака. В этом случае дерево называется _n-арным_. Условие разбиения будет простым (отнесение признака к той или иной категории), однако здесь появляется риск получения конечного дерева с очень большим числом листьев. В случае такого дерева критерий ошибки $Q$ будет состоять из $n$ слагаемых (или из $(n+1)$) в случае максимизируемого критерия, который мы использовали."
      ]
    },
    {
      "cell_type": "markdown",
      "metadata": {
        "id": "oo6IMSS-abYf"
      },
      "source": [
        "Есть и другой подход, заключающийся в формировании бинарных деревьев путем разделения множества значений признака $C = \\{c_{1}, ...,c_{n}\\}$ на два непересекающихся подмножества $C_{1}$ и $C_{2}$. После такого разделения условием разбиения в узле будет проверка принадлежности признака одному из подмножеств $[x \\in C_{1}]$.\n",
        "\n",
        "Задача остается в выборе оптимального варианта разбиения исходного множества на два подмножества, так как обычный перебор всех вариантов может быть крайне затруднительным из-за большого количества вариантов разбиения. В случаях с бинарной классификацией и регрессией используют следующий метод: все возможные значения категориального признака сортируются по определенному принципу, затем заменяются на натуральные числа.\n",
        "\n",
        "В случае бинарной классификации признаки упорядочиваются на основе того, какая доля объектов с такими признаками относится к классу +1. Если обозначить множество объектов в узле $m$, у которых $j$-й признак имеет значение $с$, через $X_{m}(c)$, а через $N_{m}(c)$ количество таких объектов, получим:\n",
        "\n",
        "$$\\frac{1}{N_{m}(c_{1})} \\sum_{x \\in X_{m}(c_{1})}[y_{i}=+1]\\leq...\\leq \\frac{1}{N_{m}(c_{n})} \\sum_{x \\in X_{m}(c_{n})}[y_{i}=+1],$$\n",
        "\n",
        "и после замены категории $c_{i}$ на натуральное число ищется разбиение как для вещественного признака."
      ]
    },
    {
      "cell_type": "markdown",
      "metadata": {
        "id": "Bb3tpXPcabYf"
      },
      "source": [
        "В случае задачи регрессии сортировка происходит схожим образом, но вместо доли объектов положительного класса среди объектов с таким значением признака вычисляется средний ответ по объектам с соответствующим значением категориального признака:\n",
        "\n",
        "$$\\frac{1}{N_{m}(c_{1})} \\sum_{x \\in X_{m}(c_{1})}y_{i}\\leq...\\leq \\frac{1}{N_{m}(c_{n})} \\sum_{x \\in X_{m}(c_{n})}y_{i}.$$"
      ]
    },
    {
      "cell_type": "markdown",
      "metadata": {
        "id": "flTxwbkY7LIK"
      },
      "source": [
        "Решающее дерево: https://scikit-learn.org/stable/modules/generated/sklearn.tree.DecisionTreeClassifier.html "
      ]
    },
    {
      "cell_type": "code",
      "metadata": {
        "id": "JFamWogp7cKU"
      },
      "source": [
        "from sklearn.tree import DecisionTreeClassifier"
      ],
      "execution_count": 31,
      "outputs": []
    },
    {
      "cell_type": "code",
      "metadata": {
        "colab": {
          "base_uri": "https://localhost:8080/"
        },
        "id": "fXkZTaYh7d-m",
        "outputId": "12accb88-4858-4f3b-920a-bcc8b0b765e0"
      },
      "source": [
        "clf = DecisionTreeClassifier(random_state=0, max_depth=5)\n",
        "clf.fit(train_data, train_labels)\n"
      ],
      "execution_count": 32,
      "outputs": [
        {
          "output_type": "execute_result",
          "data": {
            "text/plain": [
              "DecisionTreeClassifier(ccp_alpha=0.0, class_weight=None, criterion='gini',\n",
              "                       max_depth=5, max_features=None, max_leaf_nodes=None,\n",
              "                       min_impurity_decrease=0.0, min_impurity_split=None,\n",
              "                       min_samples_leaf=1, min_samples_split=2,\n",
              "                       min_weight_fraction_leaf=0.0, presort='deprecated',\n",
              "                       random_state=0, splitter='best')"
            ]
          },
          "metadata": {},
          "execution_count": 32
        }
      ]
    },
    {
      "cell_type": "code",
      "metadata": {
        "colab": {
          "base_uri": "https://localhost:8080/"
        },
        "id": "GxxFjhUO8XSr",
        "outputId": "8ebbccfe-1fe6-491e-ccf1-126e6e98d6ca"
      },
      "source": [
        "# Точность на обучающей выборке\n",
        "train_accuracy_s = accuracy_metric(train_labels,clf.predict(train_data))\n",
        "train_accuracy_s,train_accuracy"
      ],
      "execution_count": 33,
      "outputs": [
        {
          "output_type": "execute_result",
          "data": {
            "text/plain": [
              "(100.0, 98.57142857142858)"
            ]
          },
          "metadata": {},
          "execution_count": 33
        }
      ]
    },
    {
      "cell_type": "code",
      "metadata": {
        "colab": {
          "base_uri": "https://localhost:8080/"
        },
        "id": "axdLLZWW8Emq",
        "outputId": "0f582a73-8525-438f-f74f-89c2eb553f37"
      },
      "source": [
        "# Точность на тестовой выборке\n",
        "test_accuracy_s = accuracy_metric(test_labels,clf.predict(test_data))\n",
        "test_accuracy_s,test_accuracy"
      ],
      "execution_count": 34,
      "outputs": [
        {
          "output_type": "execute_result",
          "data": {
            "text/plain": [
              "(100.0, 100.0)"
            ]
          },
          "metadata": {},
          "execution_count": 34
        }
      ]
    },
    {
      "cell_type": "code",
      "metadata": {
        "colab": {
          "base_uri": "https://localhost:8080/",
          "height": 461
        },
        "id": "0c1DQM8S8uju",
        "outputId": "fd865e92-2a62-4fcd-f5d2-38b7292f5683"
      },
      "source": [
        "plt.figure(figsize = (16, 7))\n",
        "\n",
        "# график обучающей выборки\n",
        "plt.subplot(1,2,1)\n",
        "xx, yy = get_meshgrid(train_data)\n",
        "mesh_predictions = np.array(clf.predict(np.c_[xx.ravel(), yy.ravel()])).reshape(xx.shape) # определяем цвета квадратов в сетке\n",
        "plt.pcolormesh(xx, yy, mesh_predictions, cmap = light_colors)\n",
        "plt.scatter(train_data[:, 0], train_data[:, 1], c = train_labels, cmap = colors)\n",
        "plt.title(f'Train accuracy={train_accuracy_s:.2f}')\n",
        "\n",
        "# график тестовой выборки\n",
        "plt.subplot(1,2,2)\n",
        "plt.pcolormesh(xx, yy, mesh_predictions, cmap = light_colors)\n",
        "plt.scatter(test_data[:, 0], test_data[:, 1], c = test_labels, cmap = colors)\n",
        "plt.title(f'Test accuracy={test_accuracy_s:.2f}')"
      ],
      "execution_count": 35,
      "outputs": [
        {
          "output_type": "execute_result",
          "data": {
            "text/plain": [
              "Text(0.5, 1.0, 'Test accuracy=100.00')"
            ]
          },
          "metadata": {},
          "execution_count": 35
        },
        {
          "output_type": "display_data",
          "data": {
            "image/png": "[encoded data removed]",
            "text/plain": [
              "<Figure size 1152x504 with 2 Axes>"
            ]
          },
          "metadata": {
            "needs_background": "light"
          }
        }
      ]
    },
    {
      "cell_type": "code",
      "metadata": {
        "id": "Y7AzdCc0-w1G"
      },
      "source": [
        "logging.basicConfig(format='[%(levelname)s@%(name)s] %(message)s', level=logging.disable)"
      ],
      "execution_count": 36,
      "outputs": []
    },
    {
      "cell_type": "code",
      "metadata": {
        "colab": {
          "base_uri": "https://localhost:8080/",
          "height": 1000
        },
        "id": "S75azOyy-jkG",
        "outputId": "f69fa319-9353-4e0f-d565-8883c9b674f9"
      },
      "source": [
        "from sklearn import tree\n",
        "\n",
        "tree.plot_tree(clf) "
      ],
      "execution_count": 37,
      "outputs": [
        {
          "output_type": "execute_result",
          "data": {
            "text/plain": [
              "[Text(223.20000000000002, 199.32, 'X[0] <= 0.192\\ngini = 0.5\\nsamples = 70\\nvalue = [35, 35]'),\n",
              " Text(167.4, 163.07999999999998, 'X[1] <= -1.469\\ngini = 0.219\\nsamples = 40\\nvalue = [35, 5]'),\n",
              " Text(111.60000000000001, 126.83999999999999, 'X[0] <= -0.895\\ngini = 0.486\\nsamples = 12\\nvalue = [7, 5]'),\n",
              " Text(55.800000000000004, 90.6, 'gini = 0.0\\nsamples = 6\\nvalue = [6, 0]'),\n",
              " Text(167.4, 90.6, 'X[0] <= -0.296\\ngini = 0.278\\nsamples = 6\\nvalue = [1, 5]'),\n",
              " Text(111.60000000000001, 54.359999999999985, 'X[0] <= -0.668\\ngini = 0.5\\nsamples = 2\\nvalue = [1, 1]'),\n",
              " Text(55.800000000000004, 18.119999999999976, 'gini = 0.0\\nsamples = 1\\nvalue = [0, 1]'),\n",
              " Text(167.4, 18.119999999999976, 'gini = 0.0\\nsamples = 1\\nvalue = [1, 0]'),\n",
              " Text(223.20000000000002, 54.359999999999985, 'gini = 0.0\\nsamples = 4\\nvalue = [0, 4]'),\n",
              " Text(223.20000000000002, 126.83999999999999, 'gini = 0.0\\nsamples = 28\\nvalue = [28, 0]'),\n",
              " Text(279.0, 163.07999999999998, 'gini = 0.0\\nsamples = 30\\nvalue = [0, 30]')]"
            ]
          },
          "metadata": {},
          "execution_count": 37
        },
        {
          "output_type": "stream",
          "name": "stderr",
          "text": [
            "[DEBUG@matplotlib.font_manager] findfont: Matching sans\\-serif:style=normal:variant=normal:weight=normal:stretch=normal:size=6.863636363636363.\n",
            "[DEBUG@matplotlib.font_manager] findfont: score(<Font 'STIXGeneral' (STIXGeneralItalic.ttf) italic normal 400 normal>) = 11.05\n",
            "[DEBUG@matplotlib.font_manager] findfont: score(<Font 'DejaVu Sans' (DejaVuSans.ttf) normal normal 400 normal>) = 0.05\n",
            "[DEBUG@matplotlib.font_manager] findfont: score(<Font 'STIXSizeFourSym' (STIXSizFourSymBol.ttf) normal normal 700 normal>) = 10.335\n",
            "[DEBUG@matplotlib.font_manager] findfont: score(<Font 'cmb10' (cmb10.ttf) normal normal 400 normal>) = 10.05\n",
            "[DEBUG@matplotlib.font_manager] findfont: score(<Font 'DejaVu Sans' (DejaVuSans-Oblique.ttf) oblique normal 400 normal>) = 1.05\n",
            "[DEBUG@matplotlib.font_manager] findfont: score(<Font 'STIXSizeTwoSym' (STIXSizTwoSymReg.ttf) normal normal regular normal>) = 10.05\n",
            "[DEBUG@matplotlib.font_manager] findfont: score(<Font 'STIXGeneral' (STIXGeneralBolIta.ttf) italic normal 700 normal>) = 11.335\n",
            "[DEBUG@matplotlib.font_manager] findfont: score(<Font 'cmex10' (cmex10.ttf) normal normal 400 normal>) = 10.05\n",
            "[DEBUG@matplotlib.font_manager] findfont: score(<Font 'DejaVu Serif' (DejaVuSerif-Italic.ttf) italic normal 400 normal>) = 11.05\n",
            "[DEBUG@matplotlib.font_manager] findfont: score(<Font 'cmss10' (cmss10.ttf) normal normal 400 normal>) = 10.05\n",
            "[DEBUG@matplotlib.font_manager] findfont: score(<Font 'STIXSizeTwoSym' (STIXSizTwoSymBol.ttf) normal normal 700 normal>) = 10.335\n",
            "[DEBUG@matplotlib.font_manager] findfont: score(<Font 'STIXNonUnicode' (STIXNonUniBol.ttf) normal normal 700 normal>) = 10.335\n",
            "[DEBUG@matplotlib.font_manager] findfont: score(<Font 'DejaVu Sans Mono' (DejaVuSansMono-BoldOblique.ttf) oblique normal 700 normal>) = 11.335\n",
            "[DEBUG@matplotlib.font_manager] findfont: score(<Font 'STIXSizeThreeSym' (STIXSizThreeSymReg.ttf) normal normal regular normal>) = 10.05\n",
            "[DEBUG@matplotlib.font_manager] findfont: score(<Font 'STIXSizeThreeSym' (STIXSizThreeSymBol.ttf) normal normal 700 normal>) = 10.335\n",
            "[DEBUG@matplotlib.font_manager] findfont: score(<Font 'DejaVu Serif' (DejaVuSerif-Bold.ttf) normal normal 700 normal>) = 10.335\n",
            "[DEBUG@matplotlib.font_manager] findfont: score(<Font 'STIXGeneral' (STIXGeneralBol.ttf) normal normal 700 normal>) = 10.335\n",
            "[DEBUG@matplotlib.font_manager] findfont: score(<Font 'DejaVu Sans Mono' (DejaVuSansMono.ttf) normal normal 400 normal>) = 10.05\n",
            "[DEBUG@matplotlib.font_manager] findfont: score(<Font 'STIXSizeFourSym' (STIXSizFourSymReg.ttf) normal normal regular normal>) = 10.05\n",
            "[DEBUG@matplotlib.font_manager] findfont: score(<Font 'cmtt10' (cmtt10.ttf) normal normal 400 normal>) = 10.05\n",
            "[DEBUG@matplotlib.font_manager] findfont: score(<Font 'DejaVu Sans Display' (DejaVuSansDisplay.ttf) normal normal 400 normal>) = 10.05\n",
            "[DEBUG@matplotlib.font_manager] findfont: score(<Font 'STIXNonUnicode' (STIXNonUni.ttf) normal normal regular normal>) = 10.05\n",
            "[DEBUG@matplotlib.font_manager] findfont: score(<Font 'STIXSizeOneSym' (STIXSizOneSymReg.ttf) normal normal regular normal>) = 10.05\n",
            "[DEBUG@matplotlib.font_manager] findfont: score(<Font 'DejaVu Sans Mono' (DejaVuSansMono-Bold.ttf) normal normal 700 normal>) = 10.335\n",
            "[DEBUG@matplotlib.font_manager] findfont: score(<Font 'STIXNonUnicode' (STIXNonUniIta.ttf) italic normal 400 normal>) = 11.05\n",
            "[DEBUG@matplotlib.font_manager] findfont: score(<Font 'cmsy10' (cmsy10.ttf) normal normal 400 normal>) = 10.05\n",
            "[DEBUG@matplotlib.font_manager] findfont: score(<Font 'cmmi10' (cmmi10.ttf) normal normal 400 normal>) = 10.05\n",
            "[DEBUG@matplotlib.font_manager] findfont: score(<Font 'STIXNonUnicode' (STIXNonUniBolIta.ttf) italic normal 700 normal>) = 11.335\n",
            "[DEBUG@matplotlib.font_manager] findfont: score(<Font 'DejaVu Sans' (DejaVuSans-BoldOblique.ttf) oblique normal 700 normal>) = 1.335\n",
            "[DEBUG@matplotlib.font_manager] findfont: score(<Font 'STIXSizeFiveSym' (STIXSizFiveSymReg.ttf) normal normal regular normal>) = 10.05\n",
            "[DEBUG@matplotlib.font_manager] findfont: score(<Font 'cmr10' (cmr10.ttf) normal normal 400 normal>) = 10.05\n",
            "[DEBUG@matplotlib.font_manager] findfont: score(<Font 'DejaVu Serif Display' (DejaVuSerifDisplay.ttf) normal normal 400 normal>) = 10.05\n",
            "[DEBUG@matplotlib.font_manager] findfont: score(<Font 'STIXSizeOneSym' (STIXSizOneSymBol.ttf) normal normal 700 normal>) = 10.335\n",
            "[DEBUG@matplotlib.font_manager] findfont: score(<Font 'STIXGeneral' (STIXGeneral.ttf) normal normal regular normal>) = 10.05\n",
            "[DEBUG@matplotlib.font_manager] findfont: score(<Font 'DejaVu Serif' (DejaVuSerif-BoldItalic.ttf) italic normal 700 normal>) = 11.335\n",
            "[DEBUG@matplotlib.font_manager] findfont: score(<Font 'DejaVu Serif' (DejaVuSerif.ttf) normal normal 400 normal>) = 10.05\n",
            "[DEBUG@matplotlib.font_manager] findfont: score(<Font 'DejaVu Sans Mono' (DejaVuSansMono-Oblique.ttf) oblique normal 400 normal>) = 11.05\n",
            "[DEBUG@matplotlib.font_manager] findfont: score(<Font 'DejaVu Sans' (DejaVuSans-Bold.ttf) normal normal 700 normal>) = 0.33499999999999996\n",
            "[DEBUG@matplotlib.font_manager] findfont: score(<Font 'Liberation Serif' (LiberationSerif-Bold.ttf) normal normal 700 normal>) = 10.335\n",
            "[DEBUG@matplotlib.font_manager] findfont: score(<Font 'Liberation Sans Narrow' (LiberationSansNarrow-Bold.ttf) normal normal 700 condensed>) = 10.535\n",
            "[DEBUG@matplotlib.font_manager] findfont: score(<Font 'Liberation Sans' (LiberationSans-Regular.ttf) normal normal 400 normal>) = 10.05\n",
            "[DEBUG@matplotlib.font_manager] findfont: score(<Font 'Liberation Sans Narrow' (LiberationSansNarrow-BoldItalic.ttf) italic normal 700 condensed>) = 11.535\n",
            "[DEBUG@matplotlib.font_manager] findfont: score(<Font 'Liberation Serif' (LiberationSerif-Italic.ttf) italic normal 400 normal>) = 11.05\n",
            "[DEBUG@matplotlib.font_manager] findfont: score(<Font 'Liberation Sans Narrow' (LiberationSansNarrow-Italic.ttf) italic normal 400 condensed>) = 11.25\n",
            "[DEBUG@matplotlib.font_manager] findfont: score(<Font 'Liberation Mono' (LiberationMono-BoldItalic.ttf) italic normal 700 normal>) = 11.335\n",
            "[DEBUG@matplotlib.font_manager] findfont: score(<Font 'Liberation Sans' (LiberationSans-Bold.ttf) normal normal 700 normal>) = 10.335\n",
            "[DEBUG@matplotlib.font_manager] findfont: score(<Font 'Humor Sans' (Humor-Sans.ttf) normal normal 400 normal>) = 10.05\n",
            "[DEBUG@matplotlib.font_manager] findfont: score(<Font 'Liberation Sans Narrow' (LiberationSansNarrow-Regular.ttf) normal normal 400 condensed>) = 10.25\n",
            "[DEBUG@matplotlib.font_manager] findfont: score(<Font 'Liberation Mono' (LiberationMono-Bold.ttf) normal normal 700 normal>) = 10.335\n",
            "[DEBUG@matplotlib.font_manager] findfont: score(<Font 'Liberation Serif' (LiberationSerif-Regular.ttf) normal normal 400 normal>) = 10.05\n",
            "[DEBUG@matplotlib.font_manager] findfont: score(<Font 'Liberation Sans' (LiberationSans-Italic.ttf) italic normal 400 normal>) = 11.05\n",
            "[DEBUG@matplotlib.font_manager] findfont: score(<Font 'Liberation Serif' (LiberationSerif-BoldItalic.ttf) italic normal 700 normal>) = 11.335\n",
            "[DEBUG@matplotlib.font_manager] findfont: score(<Font 'Liberation Mono' (LiberationMono-Italic.ttf) italic normal 400 normal>) = 11.05\n",
            "[DEBUG@matplotlib.font_manager] findfont: score(<Font 'Liberation Sans' (LiberationSans-BoldItalic.ttf) italic normal 700 normal>) = 11.335\n",
            "[DEBUG@matplotlib.font_manager] findfont: score(<Font 'Liberation Mono' (LiberationMono-Regular.ttf) normal normal 400 normal>) = 10.05\n",
            "[DEBUG@matplotlib.font_manager] findfont: Matching sans\\-serif:style=normal:variant=normal:weight=normal:stretch=normal:size=6.863636363636363 to DejaVu Sans ('/usr/local/lib/python3.7/dist-packages/matplotlib/mpl-data/fonts/ttf/DejaVuSans.ttf') with score of 0.050000.\n"
          ]
        },
        {
          "output_type": "display_data",
          "data": {
            "image/png": "[encoded data removed]",
            "text/plain": [
              "<Figure size 432x288 with 1 Axes>"
            ]
          },
          "metadata": {
            "needs_background": "light"
          }
        }
      ]
    },
    {
      "cell_type": "code",
      "metadata": {
        "colab": {
          "base_uri": "https://localhost:8080/",
          "height": 914
        },
        "id": "2QZc6ZTJ_C5E",
        "outputId": "6aa31cbe-c5e3-43c6-c9bc-956314ebf70b"
      },
      "source": [
        "dot_data = tree.export_graphviz(clf, out_file=None,feature_names=['X0','X1'],class_names=['0','1'], filled=True, rounded=True,special_characters=True)  \n",
        "graph = graphviz.Source(dot_data)  \n",
        "graph "
      ],
      "execution_count": 38,
      "outputs": [
        {
          "output_type": "execute_result",
          "data": {
            "text/plain": [
              "<graphviz.files.Source at 0x7f3242d367d0>"
            ],
            "image/svg+xml": "<?xml version=\"1.0\" encoding=\"UTF-8\" standalone=\"no\"?>\n<!DOCTYPE svg PUBLIC \"-//W3C//DTD SVG 1.1//EN\"\n \"http://www.w3.org/Graphics/SVG/1.1/DTD/svg11.dtd\">\n<!-- Generated by graphviz version 2.40.1 (20161225.0304)\n -->\n<!-- Title: Tree Pages: 1 -->\n<svg width=\"356pt\" height=\"671pt\"\n viewBox=\"0.00 0.00 356.00 671.00\" xmlns=\"http://www.w3.org/2000/svg\" xmlns:xlink=\"http://www.w3.org/1999/xlink\">\n<g id=\"graph0\" class=\"graph\" transform=\"scale(1 1) rotate(0) translate(4 667)\">\n<title>Tree</title>\n<polygon fill=\"#ffffff\" stroke=\"transparent\" points=\"-4,4 -4,-667 352,-667 352,4 -4,4\"/>\n<!-- 0 -->\n<g id=\"node1\" class=\"node\">\n<title>0</title>\n<path fill=\"#ffffff\" stroke=\"#000000\" d=\"M277.5,-663C277.5,-663 185.5,-663 185.5,-663 179.5,-663 173.5,-657 173.5,-651 173.5,-651 173.5,-592 173.5,-592 173.5,-586 179.5,-580 185.5,-580 185.5,-580 277.5,-580 277.5,-580 283.5,-580 289.5,-586 289.5,-592 289.5,-592 289.5,-651 289.5,-651 289.5,-657 283.5,-663 277.5,-663\"/>\n<text text-anchor=\"start\" x=\"196.5\" y=\"-647.8\" font-family=\"Helvetica,sans-Serif\" font-size=\"14.00\" fill=\"#000000\">X0 ≤ 0.192</text>\n<text text-anchor=\"start\" x=\"202\" y=\"-632.8\" font-family=\"Helvetica,sans-Serif\" font-size=\"14.00\" fill=\"#000000\">gini = 0.5</text>\n<text text-anchor=\"start\" x=\"187.5\" y=\"-617.8\" font-family=\"Helvetica,sans-Serif\" font-size=\"14.00\" fill=\"#000000\">samples = 70</text>\n<text text-anchor=\"start\" x=\"181.5\" y=\"-602.8\" font-family=\"Helvetica,sans-Serif\" font-size=\"14.00\" fill=\"#000000\">value = [35, 35]</text>\n<text text-anchor=\"start\" x=\"202.5\" y=\"-587.8\" font-family=\"Helvetica,sans-Serif\" font-size=\"14.00\" fill=\"#000000\">class = 0</text>\n</g>\n<!-- 1 -->\n<g id=\"node2\" class=\"node\">\n<title>1</title>\n<path fill=\"#e99355\" stroke=\"#000000\" d=\"M211,-544C211,-544 128,-544 128,-544 122,-544 116,-538 116,-532 116,-532 116,-473 116,-473 116,-467 122,-461 128,-461 128,-461 211,-461 211,-461 217,-461 223,-467 223,-473 223,-473 223,-532 223,-532 223,-538 217,-544 211,-544\"/>\n<text text-anchor=\"start\" x=\"132\" y=\"-528.8\" font-family=\"Helvetica,sans-Serif\" font-size=\"14.00\" fill=\"#000000\">X1 ≤ &#45;1.469</text>\n<text text-anchor=\"start\" x=\"131.5\" y=\"-513.8\" font-family=\"Helvetica,sans-Serif\" font-size=\"14.00\" fill=\"#000000\">gini = 0.219</text>\n<text text-anchor=\"start\" x=\"125.5\" y=\"-498.8\" font-family=\"Helvetica,sans-Serif\" font-size=\"14.00\" fill=\"#000000\">samples = 40</text>\n<text text-anchor=\"start\" x=\"124\" y=\"-483.8\" font-family=\"Helvetica,sans-Serif\" font-size=\"14.00\" fill=\"#000000\">value = [35, 5]</text>\n<text text-anchor=\"start\" x=\"140.5\" y=\"-468.8\" font-family=\"Helvetica,sans-Serif\" font-size=\"14.00\" fill=\"#000000\">class = 0</text>\n</g>\n<!-- 0&#45;&gt;1 -->\n<g id=\"edge1\" class=\"edge\">\n<title>0&#45;&gt;1</title>\n<path fill=\"none\" stroke=\"#000000\" d=\"M209.8154,-579.8796C205.3577,-571.3236 200.6166,-562.2238 196.0106,-553.3833\"/>\n<polygon fill=\"#000000\" stroke=\"#000000\" points=\"199.0017,-551.5494 191.2771,-544.2981 192.7938,-554.7838 199.0017,-551.5494\"/>\n<text text-anchor=\"middle\" x=\"183.7678\" y=\"-564.4436\" font-family=\"Helvetica,sans-Serif\" font-size=\"14.00\" fill=\"#000000\">True</text>\n</g>\n<!-- 10 -->\n<g id=\"node11\" class=\"node\">\n<title>10</title>\n<path fill=\"#399de5\" stroke=\"#000000\" d=\"M336,-536.5C336,-536.5 253,-536.5 253,-536.5 247,-536.5 241,-530.5 241,-524.5 241,-524.5 241,-480.5 241,-480.5 241,-474.5 247,-468.5 253,-468.5 253,-468.5 336,-468.5 336,-468.5 342,-468.5 348,-474.5 348,-480.5 348,-480.5 348,-524.5 348,-524.5 348,-530.5 342,-536.5 336,-536.5\"/>\n<text text-anchor=\"start\" x=\"265\" y=\"-521.3\" font-family=\"Helvetica,sans-Serif\" font-size=\"14.00\" fill=\"#000000\">gini = 0.0</text>\n<text text-anchor=\"start\" x=\"250.5\" y=\"-506.3\" font-family=\"Helvetica,sans-Serif\" font-size=\"14.00\" fill=\"#000000\">samples = 30</text>\n<text text-anchor=\"start\" x=\"249\" y=\"-491.3\" font-family=\"Helvetica,sans-Serif\" font-size=\"14.00\" fill=\"#000000\">value = [0, 30]</text>\n<text text-anchor=\"start\" x=\"265.5\" y=\"-476.3\" font-family=\"Helvetica,sans-Serif\" font-size=\"14.00\" fill=\"#000000\">class = 1</text>\n</g>\n<!-- 0&#45;&gt;10 -->\n<g id=\"edge10\" class=\"edge\">\n<title>0&#45;&gt;10</title>\n<path fill=\"none\" stroke=\"#000000\" d=\"M253.5343,-579.8796C259.3558,-568.8835 265.6527,-556.9893 271.5227,-545.9015\"/>\n<polygon fill=\"#000000\" stroke=\"#000000\" points=\"274.7476,-547.2905 276.3333,-536.8149 268.5611,-544.0152 274.7476,-547.2905\"/>\n<text text-anchor=\"middle\" x=\"283.6854\" y=\"-557.0094\" font-family=\"Helvetica,sans-Serif\" font-size=\"14.00\" fill=\"#000000\">False</text>\n</g>\n<!-- 2 -->\n<g id=\"node3\" class=\"node\">\n<title>2</title>\n<path fill=\"#f8dbc6\" stroke=\"#000000\" d=\"M147.5,-425C147.5,-425 67.5,-425 67.5,-425 61.5,-425 55.5,-419 55.5,-413 55.5,-413 55.5,-354 55.5,-354 55.5,-348 61.5,-342 67.5,-342 67.5,-342 147.5,-342 147.5,-342 153.5,-342 159.5,-348 159.5,-354 159.5,-354 159.5,-413 159.5,-413 159.5,-419 153.5,-425 147.5,-425\"/>\n<text text-anchor=\"start\" x=\"70\" y=\"-409.8\" font-family=\"Helvetica,sans-Serif\" font-size=\"14.00\" fill=\"#000000\">X0 ≤ &#45;0.895</text>\n<text text-anchor=\"start\" x=\"69.5\" y=\"-394.8\" font-family=\"Helvetica,sans-Serif\" font-size=\"14.00\" fill=\"#000000\">gini = 0.486</text>\n<text text-anchor=\"start\" x=\"63.5\" y=\"-379.8\" font-family=\"Helvetica,sans-Serif\" font-size=\"14.00\" fill=\"#000000\">samples = 12</text>\n<text text-anchor=\"start\" x=\"66\" y=\"-364.8\" font-family=\"Helvetica,sans-Serif\" font-size=\"14.00\" fill=\"#000000\">value = [7, 5]</text>\n<text text-anchor=\"start\" x=\"78.5\" y=\"-349.8\" font-family=\"Helvetica,sans-Serif\" font-size=\"14.00\" fill=\"#000000\">class = 0</text>\n</g>\n<!-- 1&#45;&gt;2 -->\n<g id=\"edge2\" class=\"edge\">\n<title>1&#45;&gt;2</title>\n<path fill=\"none\" stroke=\"#000000\" d=\"M147.8154,-460.8796C143.3577,-452.3236 138.6166,-443.2238 134.0106,-434.3833\"/>\n<polygon fill=\"#000000\" stroke=\"#000000\" points=\"137.0017,-432.5494 129.2771,-425.2981 130.7938,-435.7838 137.0017,-432.5494\"/>\n</g>\n<!-- 9 -->\n<g id=\"node10\" class=\"node\">\n<title>9</title>\n<path fill=\"#e58139\" stroke=\"#000000\" d=\"M273,-417.5C273,-417.5 190,-417.5 190,-417.5 184,-417.5 178,-411.5 178,-405.5 178,-405.5 178,-361.5 178,-361.5 178,-355.5 184,-349.5 190,-349.5 190,-349.5 273,-349.5 273,-349.5 279,-349.5 285,-355.5 285,-361.5 285,-361.5 285,-405.5 285,-405.5 285,-411.5 279,-417.5 273,-417.5\"/>\n<text text-anchor=\"start\" x=\"202\" y=\"-402.3\" font-family=\"Helvetica,sans-Serif\" font-size=\"14.00\" fill=\"#000000\">gini = 0.0</text>\n<text text-anchor=\"start\" x=\"187.5\" y=\"-387.3\" font-family=\"Helvetica,sans-Serif\" font-size=\"14.00\" fill=\"#000000\">samples = 28</text>\n<text text-anchor=\"start\" x=\"186\" y=\"-372.3\" font-family=\"Helvetica,sans-Serif\" font-size=\"14.00\" fill=\"#000000\">value = [28, 0]</text>\n<text text-anchor=\"start\" x=\"202.5\" y=\"-357.3\" font-family=\"Helvetica,sans-Serif\" font-size=\"14.00\" fill=\"#000000\">class = 0</text>\n</g>\n<!-- 1&#45;&gt;9 -->\n<g id=\"edge9\" class=\"edge\">\n<title>1&#45;&gt;9</title>\n<path fill=\"none\" stroke=\"#000000\" d=\"M191.1846,-460.8796C196.9136,-449.8835 203.1106,-437.9893 208.8874,-426.9015\"/>\n<polygon fill=\"#000000\" stroke=\"#000000\" points=\"212.105,-428.3007 213.6216,-417.8149 205.897,-425.0662 212.105,-428.3007\"/>\n</g>\n<!-- 3 -->\n<g id=\"node4\" class=\"node\">\n<title>3</title>\n<path fill=\"#e58139\" stroke=\"#000000\" d=\"M87,-298.5C87,-298.5 12,-298.5 12,-298.5 6,-298.5 0,-292.5 0,-286.5 0,-286.5 0,-242.5 0,-242.5 0,-236.5 6,-230.5 12,-230.5 12,-230.5 87,-230.5 87,-230.5 93,-230.5 99,-236.5 99,-242.5 99,-242.5 99,-286.5 99,-286.5 99,-292.5 93,-298.5 87,-298.5\"/>\n<text text-anchor=\"start\" x=\"20\" y=\"-283.3\" font-family=\"Helvetica,sans-Serif\" font-size=\"14.00\" fill=\"#000000\">gini = 0.0</text>\n<text text-anchor=\"start\" x=\"10\" y=\"-268.3\" font-family=\"Helvetica,sans-Serif\" font-size=\"14.00\" fill=\"#000000\">samples = 6</text>\n<text text-anchor=\"start\" x=\"8\" y=\"-253.3\" font-family=\"Helvetica,sans-Serif\" font-size=\"14.00\" fill=\"#000000\">value = [6, 0]</text>\n<text text-anchor=\"start\" x=\"20.5\" y=\"-238.3\" font-family=\"Helvetica,sans-Serif\" font-size=\"14.00\" fill=\"#000000\">class = 0</text>\n</g>\n<!-- 2&#45;&gt;3 -->\n<g id=\"edge3\" class=\"edge\">\n<title>2&#45;&gt;3</title>\n<path fill=\"none\" stroke=\"#000000\" d=\"M87.2144,-341.8796C81.855,-330.8835 76.0578,-318.9893 70.6537,-307.9015\"/>\n<polygon fill=\"#000000\" stroke=\"#000000\" points=\"73.7524,-306.2706 66.2249,-298.8149 67.46,-309.3375 73.7524,-306.2706\"/>\n</g>\n<!-- 4 -->\n<g id=\"node5\" class=\"node\">\n<title>4</title>\n<path fill=\"#61b1ea\" stroke=\"#000000\" d=\"M204,-306C204,-306 129,-306 129,-306 123,-306 117,-300 117,-294 117,-294 117,-235 117,-235 117,-229 123,-223 129,-223 129,-223 204,-223 204,-223 210,-223 216,-229 216,-235 216,-235 216,-294 216,-294 216,-300 210,-306 204,-306\"/>\n<text text-anchor=\"start\" x=\"129\" y=\"-290.8\" font-family=\"Helvetica,sans-Serif\" font-size=\"14.00\" fill=\"#000000\">X0 ≤ &#45;0.296</text>\n<text text-anchor=\"start\" x=\"128.5\" y=\"-275.8\" font-family=\"Helvetica,sans-Serif\" font-size=\"14.00\" fill=\"#000000\">gini = 0.278</text>\n<text text-anchor=\"start\" x=\"127\" y=\"-260.8\" font-family=\"Helvetica,sans-Serif\" font-size=\"14.00\" fill=\"#000000\">samples = 6</text>\n<text text-anchor=\"start\" x=\"125\" y=\"-245.8\" font-family=\"Helvetica,sans-Serif\" font-size=\"14.00\" fill=\"#000000\">value = [1, 5]</text>\n<text text-anchor=\"start\" x=\"137.5\" y=\"-230.8\" font-family=\"Helvetica,sans-Serif\" font-size=\"14.00\" fill=\"#000000\">class = 1</text>\n</g>\n<!-- 2&#45;&gt;4 -->\n<g id=\"edge4\" class=\"edge\">\n<title>2&#45;&gt;4</title>\n<path fill=\"none\" stroke=\"#000000\" d=\"M128.1353,-341.8796C132.3774,-333.3236 136.889,-324.2238 141.2721,-315.3833\"/>\n<polygon fill=\"#000000\" stroke=\"#000000\" points=\"144.4703,-316.8121 145.7766,-306.2981 138.1988,-313.7026 144.4703,-316.8121\"/>\n</g>\n<!-- 5 -->\n<g id=\"node6\" class=\"node\">\n<title>5</title>\n<path fill=\"#ffffff\" stroke=\"#000000\" d=\"M145,-187C145,-187 70,-187 70,-187 64,-187 58,-181 58,-175 58,-175 58,-116 58,-116 58,-110 64,-104 70,-104 70,-104 145,-104 145,-104 151,-104 157,-110 157,-116 157,-116 157,-175 157,-175 157,-181 151,-187 145,-187\"/>\n<text text-anchor=\"start\" x=\"70\" y=\"-171.8\" font-family=\"Helvetica,sans-Serif\" font-size=\"14.00\" fill=\"#000000\">X0 ≤ &#45;0.668</text>\n<text text-anchor=\"start\" x=\"78\" y=\"-156.8\" font-family=\"Helvetica,sans-Serif\" font-size=\"14.00\" fill=\"#000000\">gini = 0.5</text>\n<text text-anchor=\"start\" x=\"68\" y=\"-141.8\" font-family=\"Helvetica,sans-Serif\" font-size=\"14.00\" fill=\"#000000\">samples = 2</text>\n<text text-anchor=\"start\" x=\"66\" y=\"-126.8\" font-family=\"Helvetica,sans-Serif\" font-size=\"14.00\" fill=\"#000000\">value = [1, 1]</text>\n<text text-anchor=\"start\" x=\"78.5\" y=\"-111.8\" font-family=\"Helvetica,sans-Serif\" font-size=\"14.00\" fill=\"#000000\">class = 0</text>\n</g>\n<!-- 4&#45;&gt;5 -->\n<g id=\"edge5\" class=\"edge\">\n<title>4&#45;&gt;5</title>\n<path fill=\"none\" stroke=\"#000000\" d=\"M145.8647,-222.8796C141.6226,-214.3236 137.111,-205.2238 132.7279,-196.3833\"/>\n<polygon fill=\"#000000\" stroke=\"#000000\" points=\"135.8012,-194.7026 128.2234,-187.2981 129.5297,-197.8121 135.8012,-194.7026\"/>\n</g>\n<!-- 8 -->\n<g id=\"node9\" class=\"node\">\n<title>8</title>\n<path fill=\"#399de5\" stroke=\"#000000\" d=\"M262,-179.5C262,-179.5 187,-179.5 187,-179.5 181,-179.5 175,-173.5 175,-167.5 175,-167.5 175,-123.5 175,-123.5 175,-117.5 181,-111.5 187,-111.5 187,-111.5 262,-111.5 262,-111.5 268,-111.5 274,-117.5 274,-123.5 274,-123.5 274,-167.5 274,-167.5 274,-173.5 268,-179.5 262,-179.5\"/>\n<text text-anchor=\"start\" x=\"195\" y=\"-164.3\" font-family=\"Helvetica,sans-Serif\" font-size=\"14.00\" fill=\"#000000\">gini = 0.0</text>\n<text text-anchor=\"start\" x=\"185\" y=\"-149.3\" font-family=\"Helvetica,sans-Serif\" font-size=\"14.00\" fill=\"#000000\">samples = 4</text>\n<text text-anchor=\"start\" x=\"183\" y=\"-134.3\" font-family=\"Helvetica,sans-Serif\" font-size=\"14.00\" fill=\"#000000\">value = [0, 4]</text>\n<text text-anchor=\"start\" x=\"195.5\" y=\"-119.3\" font-family=\"Helvetica,sans-Serif\" font-size=\"14.00\" fill=\"#000000\">class = 1</text>\n</g>\n<!-- 4&#45;&gt;8 -->\n<g id=\"edge8\" class=\"edge\">\n<title>4&#45;&gt;8</title>\n<path fill=\"none\" stroke=\"#000000\" d=\"M186.7856,-222.8796C192.145,-211.8835 197.9422,-199.9893 203.3463,-188.9015\"/>\n<polygon fill=\"#000000\" stroke=\"#000000\" points=\"206.54,-190.3375 207.7751,-179.8149 200.2476,-187.2706 206.54,-190.3375\"/>\n</g>\n<!-- 6 -->\n<g id=\"node7\" class=\"node\">\n<title>6</title>\n<path fill=\"#399de5\" stroke=\"#000000\" d=\"M87,-68C87,-68 12,-68 12,-68 6,-68 0,-62 0,-56 0,-56 0,-12 0,-12 0,-6 6,0 12,0 12,0 87,0 87,0 93,0 99,-6 99,-12 99,-12 99,-56 99,-56 99,-62 93,-68 87,-68\"/>\n<text text-anchor=\"start\" x=\"20\" y=\"-52.8\" font-family=\"Helvetica,sans-Serif\" font-size=\"14.00\" fill=\"#000000\">gini = 0.0</text>\n<text text-anchor=\"start\" x=\"10\" y=\"-37.8\" font-family=\"Helvetica,sans-Serif\" font-size=\"14.00\" fill=\"#000000\">samples = 1</text>\n<text text-anchor=\"start\" x=\"8\" y=\"-22.8\" font-family=\"Helvetica,sans-Serif\" font-size=\"14.00\" fill=\"#000000\">value = [0, 1]</text>\n<text text-anchor=\"start\" x=\"20.5\" y=\"-7.8\" font-family=\"Helvetica,sans-Serif\" font-size=\"14.00\" fill=\"#000000\">class = 1</text>\n</g>\n<!-- 5&#45;&gt;6 -->\n<g id=\"edge6\" class=\"edge\">\n<title>5&#45;&gt;6</title>\n<path fill=\"none\" stroke=\"#000000\" d=\"M85.9029,-103.9815C81.3612,-95.2504 76.5598,-86.0202 71.9863,-77.2281\"/>\n<polygon fill=\"#000000\" stroke=\"#000000\" points=\"75.0431,-75.52 67.3233,-68.2637 68.8331,-78.7504 75.0431,-75.52\"/>\n</g>\n<!-- 7 -->\n<g id=\"node8\" class=\"node\">\n<title>7</title>\n<path fill=\"#e58139\" stroke=\"#000000\" d=\"M204,-68C204,-68 129,-68 129,-68 123,-68 117,-62 117,-56 117,-56 117,-12 117,-12 117,-6 123,0 129,0 129,0 204,0 204,0 210,0 216,-6 216,-12 216,-12 216,-56 216,-56 216,-62 210,-68 204,-68\"/>\n<text text-anchor=\"start\" x=\"137\" y=\"-52.8\" font-family=\"Helvetica,sans-Serif\" font-size=\"14.00\" fill=\"#000000\">gini = 0.0</text>\n<text text-anchor=\"start\" x=\"127\" y=\"-37.8\" font-family=\"Helvetica,sans-Serif\" font-size=\"14.00\" fill=\"#000000\">samples = 1</text>\n<text text-anchor=\"start\" x=\"125\" y=\"-22.8\" font-family=\"Helvetica,sans-Serif\" font-size=\"14.00\" fill=\"#000000\">value = [1, 0]</text>\n<text text-anchor=\"start\" x=\"137.5\" y=\"-7.8\" font-family=\"Helvetica,sans-Serif\" font-size=\"14.00\" fill=\"#000000\">class = 0</text>\n</g>\n<!-- 5&#45;&gt;7 -->\n<g id=\"edge7\" class=\"edge\">\n<title>5&#45;&gt;7</title>\n<path fill=\"none\" stroke=\"#000000\" d=\"M129.4694,-103.9815C134.0895,-95.2504 138.9736,-86.0202 143.626,-77.2281\"/>\n<polygon fill=\"#000000\" stroke=\"#000000\" points=\"146.7859,-78.7395 148.3694,-68.2637 140.5987,-75.4655 146.7859,-78.7395\"/>\n</g>\n</g>\n</svg>\n"
          },
          "metadata": {},
          "execution_count": 38
        }
      ]
    },
    {
      "cell_type": "markdown",
      "metadata": {
        "id": "fuInidP3abYh"
      },
      "source": [
        "## Дополнительные материалы"
      ]
    },
    {
      "cell_type": "markdown",
      "metadata": {
        "id": "qlxrQi3-abYh"
      },
      "source": [
        "1. [Энтропия](https://habr.com/ru/post/305794/)\n",
        "2. [Энтропия - теоретическое обоснование](https://ru.wikipedia.org/wiki/%D0%98%D0%BD%D1%84%D0%BE%D1%80%D0%BC%D0%B0%D1%86%D0%B8%D0%BE%D0%BD%D0%BD%D0%B0%D1%8F_%D1%8D%D0%BD%D1%82%D1%80%D0%BE%D0%BF%D0%B8%D1%8F)\n",
        "3. [Cost-Complexity Pruning](http://mlwiki.org/index.php/Cost-Complexity_Pruning)\n",
        "4. [Реализация дерева решений в функциональном стиле](https://github.com/random-forests/tutorials/blob/master/decision_tree.ipynb)\n",
        "5. [ООП-реализация дерева решений](https://github.com/curiousily/Machine-Learning-from-Scratch/blob/master/3_decision_trees.ipynb)\n",
        "6. [Пример работы дерева решений в задаче регрессии](https://habr.com/ru/company/ods/blog/322534/#derevo-resheniy-v-zadache-regressii)"
      ]
    },
    {
      "cell_type": "markdown",
      "metadata": {
        "id": "7VbujEWdxIcX"
      },
      "source": [
        "## Summary"
      ]
    },
    {
      "cell_type": "markdown",
      "metadata": {
        "id": "KljmNEmyxIcX"
      },
      "source": [
        "* Решающее дерево - последовательное построение узлов, разбивающих множество входящих объектов согласно принципу минимизации “нечистоты” (impurity) узла\n",
        "* Предикаты для разбиения в узле выбираются из всего множества признаков\n",
        "* Деревья могут легко переобучиться под выборку, если не ограничивать их глубину\n",
        "* Деревья очень чувствительны к небольшим изменениям в выборке (шумам)"
      ]
    },
    {
      "cell_type": "markdown",
      "metadata": {
        "id": "LswCHW1HLQod"
      },
      "source": [
        "## Домашнее задание\n",
        "\n",
        "\n",
        "1. В коде из методички реализуйте один или несколько из критериев останова (количество листьев, количество используемых признаков, глубина дерева и т.д.)\n",
        "2. Реализуйте дерево для задачи регрессии. Возьмите за основу дерево, реализованное в методичке, заменив механизм предсказания в листе на взятие среднего значения по выборке, и критерий Джини на дисперсию значений."
      ]
    },
    {
      "cell_type": "code",
      "metadata": {
        "id": "CspMnERkLUPy"
      },
      "source": [
        ""
      ],
      "execution_count": 38,
      "outputs": []
    }
  ]
}